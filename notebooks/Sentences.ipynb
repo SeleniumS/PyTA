{
 "cells": [
  {
   "cell_type": "markdown",
   "metadata": {},
   "source": [
    "# X Sentences of Y Length\n",
    "\n",
    "The purpose of this notebook is to try to do the following:\n",
    "\n",
    "1. Break a text into a series of sentences.\n",
    "2. Count the length (in words) of each sentence.\n",
    "3. Pull X number of sentences of Y length from the text.\n",
    "\n",
    "I want to do this because I am working with a toy corpus in the Tedtalks project and I would like to be able to create a corpus drawn from two (or more) texts that we can feed into the topic modeling workflow to see how well the algorithm does at distinguishing the two texts."
   ]
  },
  {
   "cell_type": "markdown",
   "metadata": {},
   "source": [
    "**Break a text into a series of sentences**: This is something I have done before, when working with the sentiment analysis materials, so we will start with a code base:"
   ]
  },
  {
   "cell_type": "code",
   "execution_count": 1,
   "metadata": {},
   "outputs": [
    {
     "name": "stdout",
     "output_type": "stream",
     "text": [
      "28\n",
      "['And Mercury was some four billion miles from ... From?', 'His frenzied fumbling as he strapped himself into the seat.', 'That curve overhead wasn’t a sky, whatever else it was.', 'It saw him and ran back again under the bush.', 'He looked up again, trying to decide what was overhead.', 'Inside his head he heard it, not with his ears.', 'He picked it up, and crouched to receive the attack.', 'Obviously, it couldn’t find a way through at either side.', 'It rolled again, to the nearest one of another type.', 'But it hit with a resounding thump, and obviously hurt.', 'But his body processes went on here, just the same.', 'A dry, still heat without the slightest movement of air.', 'For the exertion of his explorations had left him panting.', 'One was leafless, dry, brittle, rather like a dried tumbleweed.', 'Again Carson had to fight off a wave of nausea.', 'From under the second bush, it looked out at him.', 'Seemed to be some sort of a catapult, Carson thought.', 'But that wasn’t going to be any good, he saw.', 'He was, he knew, near the limit of his endurance.', 'He was still beside one of the piles of stones.', 'With the tendrils he made himself twenty feet of line.', 'He was able, after an effort, to untie the knot.', 'It was as impassable as when he’d first felt it.', 'Carson doubted that it would ever need that second catapult.', 'Obviously it wanted Carson to follow it along the barrier.', '-- to dig under the barrier or to reach water.', 'He stabbed and slashed, and at last it was still.', 'He went right to Brander’s office, went in, and saluted.']\n"
     ]
    }
   ],
   "source": [
    "from nltk import tokenize\n",
    "\n",
    "my_file = \"/Users/john/Code/texts/fiction/arena.txt\"\n",
    "\n",
    "with open (my_file, \"r\") as myfile:\n",
    "        text = myfile.read().replace('\\n', ' ')   \n",
    "        sentences = tokenize.sent_tokenize(text)\n",
    "        lengths = []\n",
    "        for sentence in sentences:\n",
    "            if len(sentence.split(\" \")) == 10:\n",
    "                lengths.append(sentence)\n",
    "print(len(lengths))\n",
    "print(lengths)"
   ]
  },
  {
   "cell_type": "code",
   "execution_count": null,
   "metadata": {
    "collapsed": true
   },
   "outputs": [],
   "source": []
  }
 ],
 "metadata": {
  "kernelspec": {
   "display_name": "Python 3",
   "language": "python",
   "name": "python3"
  },
  "language_info": {
   "codemirror_mode": {
    "name": "ipython",
    "version": 3
   },
   "file_extension": ".py",
   "mimetype": "text/x-python",
   "name": "python",
   "nbconvert_exporter": "python",
   "pygments_lexer": "ipython3",
   "version": "3.4.6"
  }
 },
 "nbformat": 4,
 "nbformat_minor": 2
}
