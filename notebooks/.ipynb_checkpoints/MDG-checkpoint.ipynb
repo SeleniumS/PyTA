{
 "cells": [
  {
   "cell_type": "markdown",
   "metadata": {},
   "source": [
    "# The Most Dangerous Game"
   ]
  },
  {
   "cell_type": "markdown",
   "metadata": {},
   "source": [
    "The first line of code run here is something internal to Jupyter Notebooks that allows us to place any graphical output into the page itself and not in a separate window or file. (We can still save output to a file, if we want.)"
   ]
  },
  {
   "cell_type": "code",
   "execution_count": 12,
   "metadata": {},
   "outputs": [
    {
     "name": "stdout",
     "output_type": "stream",
     "text": [
      "Populating the interactive namespace from numpy and matplotlib\n"
     ]
    }
   ],
   "source": [
    "%pylab inline"
   ]
  },
  {
   "cell_type": "markdown",
   "metadata": {},
   "source": [
    "After that, it's time to get our text and start examining it. So the first thing we need to do is load the text file:"
   ]
  },
  {
   "cell_type": "code",
   "execution_count": 13,
   "metadata": {},
   "outputs": [],
   "source": [
    "mdg = open('../texts/mdg.txt', 'r').read()\n",
    "# print(mdg)\n",
    "# len(mdg)\n",
    "# type(mdg)"
   ]
  },
  {
   "cell_type": "markdown",
   "metadata": {},
   "source": [
    "If you were to look at the file, by simply adding `print(mdg)` above (commented out for the time being), you would see all of the text, in a completely readable form. If you wanted to see how long it was, you can uncomment `len(mdg)` to see for yourself. Python tells you it is 44078 characters long. But characters isn't a very useful way to measure texts, is it? (It's not clear how useful words are as a unit of measure, but it's the one we are used to using.) \n",
    "\n",
    "One of the problems is that, as `type(mdg)` reveals, currently our text is a string. Like almost all computer languages, Python doesn't natively understand human languages: they are nothing more than a series of things, characters made up of letters, numbers, punctuation marks, and spaces.\n",
    "\n",
    "In order to count the words, we have to tell Python how to break the string into words."
   ]
  },
  {
   "cell_type": "code",
   "execution_count": 14,
   "metadata": {},
   "outputs": [
    {
     "name": "stdout",
     "output_type": "stream",
     "text": [
      "Words in text: 8109.\n"
     ]
    }
   ],
   "source": [
    "# =-=-=-=-=-=-=-=-=-=-=\n",
    "# Convert the string into a list of words (still human readable!)\n",
    "# =-=-=-=-=-=-=-=-=-=-= \n",
    "\n",
    "import re\n",
    "\n",
    "mdg_words = re.sub(\"[^a-zA-Z'-]\",\" \", mdg).lower().split()\n",
    "print('Words in text: {}.'.format(len(mdg_words)))"
   ]
  },
  {
   "cell_type": "code",
   "execution_count": 15,
   "metadata": {},
   "outputs": [
    {
     "name": "stdout",
     "output_type": "stream",
     "text": [
      "['off', 'there', 'to', 'the', 'right', 'somewhere', 'is', 'a', 'large', 'island', 'said', 'whitney', 'it', 's', 'rather', 'a', 'mystery', 'what', 'island', 'is', 'it', 'rainsford', 'asked', 'the', 'old', 'charts', 'call', 'it', \"'ship-trap\", 'island', \"'\", 'whitney', 'replied', 'a', 'suggestive', 'name', 'isn', 't', 'it', 'sailors', 'have', 'a', 'curious', 'dread', 'of', 'the', 'place', 'i', 'don', 't', 'know', 'why', 'some', 'superstition', 'can', 't', 'see', 'it', 'remarked', 'rainsford', 'trying', 'to', 'peer', 'through', 'the', 'dank', 'tropical', 'night', 'that', 'was', 'palpable', 'as', 'it', 'pressed', 'its', 'thick', 'warm', 'blackness', 'in', 'upon', 'the', 'yacht', 'you', 've', 'good', 'eyes', 'said', 'whitney', 'with', 'a', 'laugh', 'and', 'i', 've', 'seen', 'you', 'pick', 'off', 'a', 'moose', 'moving', 'in', 'the', 'brown', 'fall', 'bush', 'at', 'four', 'hundred', 'yards', 'but', 'even', 'you', 'can', 't', 'see', 'four', 'miles', 'or', 'so', 'through', 'a', 'moonless', 'caribbean', 'night', 'nor', 'four', 'yards', 'admitted', 'rainsford', 'ugh', 'it', 's', 'like', 'moist', 'black', 'velvet', 'it', 'will', 'be', 'light', 'enough', 'in', 'rio', 'promised', 'whitney', 'we', 'should', 'make', 'it', 'in', 'a', 'few', 'days', 'i', 'hope', 'the', 'jaguar', 'guns', 'have', 'come', 'from', 'purdey', 's', 'we', 'should', 'have', 'some', 'good', 'hunting', 'up', 'the', 'amazon', 'great', 'sport', 'hunting', 'the', 'best', 'sport', 'in', 'the', 'world', 'agreed', 'rainsford', 'for', 'the', 'hunter', 'amended', 'whitney', 'not', 'for', 'the', 'jaguar', 'don', 't', 'talk', 'rot', 'whitney', 'said', 'rainsford', 'you', 're', 'a', 'big-game', 'hunter', 'not', 'a', 'philosopher', 'who', 'cares', 'how', 'a', 'jaguar', 'feels', 'perhaps', 'the', 'jaguar', 'does', 'observed', 'whitney', 'bah', 'they', 've', 'no', 'understanding', 'even', 'so', 'i', 'rather', 'think', 'they', 'understand', 'one', 'thing', 'fear', 'the', 'fear', 'of', 'pain', 'and', 'the', 'fear', 'of', 'death', 'nonsense', 'laughed', 'rainsford', 'this', 'hot', 'weather', 'is', 'making', 'you', 'soft', 'whitney', 'be', 'a', 'realist', 'the', 'world', 'is', 'made', 'up', 'of', 'two', 'classes', 'the', 'hunters', 'and', 'the', 'huntees', 'luckily', 'you', 'and', 'i', 'are', 'hunters', 'do', 'you', 'think', 'we', 've', 'passed', 'that', 'island', 'yet', 'i', 'can', 't', 'tell', 'in', 'the', 'dark', 'i', 'hope', 'so', 'why', 'asked', 'rainsford', 'the', 'place', 'has', 'a', 'reputation', 'a', 'bad', 'one', 'cannibals', 'suggested', 'rainsford', 'hardly', 'even', 'cannibals', 'wouldn', 't', 'live', 'in', 'such', 'a', 'god-forsaken', 'place', 'but', 'it', 's', 'gotten', 'into', 'sailor', 'lore', 'somehow', 'didn', 't', 'you', 'notice', 'that', 'the', 'crew', 's', 'nerves', 'seemed', 'a', 'bit', 'jumpy', 'today', 'they', 'were', 'a', 'bit', 'strange', 'now', 'you', 'mention', 'it', 'even', 'captain', 'nielsen', 'yes', 'even', 'that', 'tough-minded', 'old', 'swede', 'who', 'd', 'go', 'up', 'to', 'the', 'devil', 'himself', 'and', 'ask', 'him', 'for', 'a', 'light', 'those', 'fishy', 'blue', 'eyes', 'held', 'a', 'look', 'i', 'never', 'saw', 'there', 'before', 'all', 'i', 'could', 'get', 'out', 'of', 'him', 'was', 'this', 'place', 'has', 'an', 'evil', 'name', 'among', 'seafaring', 'men', 'sir', 'then', 'he', 'said', 'to', 'me', 'very', 'gravely', 'don', 't', 'you', 'feel', 'anything', 'as', 'if', 'the', 'air', 'about', 'us', 'was', 'actually', 'poisonous', 'now', 'you', 'mustn', 't', 'laugh', 'when', 'i', 'tell', 'you', 'this', 'i', 'did', 'feel', 'something', 'like', 'a', 'sudden', 'chill', 'there', 'was', 'no', 'breeze', 'the', 'sea', 'was', 'as', 'flat', 'as', 'a', 'plate-glass', 'window', 'we', 'were', 'drawing', 'near', 'the', 'island', 'then', 'what', 'i', 'felt', 'was', 'a', 'a', 'mental', 'chill', 'a', 'sort', 'of', 'sudden', 'dread', 'pure', 'imagination', 'said', 'rainsford', 'one', 'superstitious', 'sailor', 'can', 'taint', 'the', 'whole', 'ship', 's', 'company', 'with', 'his', 'fear', 'maybe', 'but', 'sometimes', 'i', 'think', 'sailors', 'have', 'an', 'extra', 'sense', 'that', 'tells', 'them', 'when', 'they', 'are', 'in', 'danger', 'sometimes', 'i', 'think', 'evil', 'is', 'a', 'tangible', 'thing', 'with', 'wave', 'lengths', 'just', 'as', 'sound', 'and', 'light', 'have', 'an', 'evil', 'place', 'can', 'so', 'to', 'speak', 'broadcast', 'vibrations', 'of', 'evil', 'anyhow', 'i', 'm', 'glad', 'we', 're', 'getting', 'out', 'of', 'this', 'zone', 'well', 'i', 'think', 'i', 'll', 'turn', 'in', 'now', 'rainsford', 'i', 'm', 'not', 'sleepy', 'said', 'rainsford', 'i', 'm', 'going', 'to', 'smoke', 'another', 'pipe', 'up', 'on', 'the', 'afterdeck', 'good', 'night', 'then', 'rainsford', 'see', 'you', 'at', 'breakfast', 'right', 'good', 'night', 'whitney', 'there', 'was', 'no', 'sound', 'in', 'the', 'night', 'as', 'rainsford', 'sat', 'there', 'but', 'the', 'muffled', 'throb', 'of', 'the', 'engine', 'that', 'drove', 'the', 'yacht', 'swiftly', 'through', 'the', 'darkness', 'and', 'the', 'swish', 'and', 'ripple', 'of', 'the', 'wash', 'of', 'the', 'propeller', 'rainsford', 'reclining', 'in', 'a', 'steamer', 'chair', 'indolently', 'puffed', 'on', 'his', 'favorite', 'brier', 'the', 'sensuous', 'drowsiness', 'of', 'the', 'night', 'was', 'on', 'him', 'it', 's', 'so', 'dark', 'he', 'thought', 'that', 'i', 'could', 'sleep', 'without', 'closing', 'my', 'eyes', 'the', 'night', 'would', 'be', 'my', 'eyelids', 'an', 'abrupt', 'sound', 'startled', 'him', 'off', 'to', 'the', 'right', 'he', 'heard', 'it', 'and', 'his', 'ears', 'expert', 'in', 'such', 'matters', 'could', 'not', 'be', 'mistaken', 'again', 'he', 'heard', 'the', 'sound', 'and', 'again', 'somewhere', 'off', 'in', 'the', 'blackness', 'someone', 'had', 'fired', 'a', 'gun', 'three', 'times', 'rainsford', 'sprang', 'up', 'and', 'moved', 'quickly', 'to', 'the', 'rail', 'mystified', 'he', 'strained', 'his', 'eyes', 'in', 'the', 'direction', 'from', 'which', 'the', 'reports', 'had', 'come', 'but', 'it', 'was', 'like', 'trying', 'to', 'see', 'through', 'a', 'blanket', 'he', 'leaped', 'upon', 'the', 'rail', 'and', 'balanced', 'himself', 'there', 'to', 'get', 'greater', 'elevation', 'his', 'pipe', 'striking', 'a', 'rope', 'was', 'knocked', 'from', 'his', 'mouth', 'he', 'lunged', 'for', 'it', 'a', 'short', 'hoarse', 'cry', 'came', 'from', 'his', 'lips', 'as', 'he', 'realized', 'he', 'had', 'reached', 'too', 'far', 'and', 'had', 'lost', 'his', 'balance', 'the', 'cry', 'was', 'pinched', 'off', 'short', 'as', 'the', 'blood-warm', 'waters', 'of', 'the', 'caribbean', 'sea', 'dosed', 'over', 'his', 'head', 'he', 'struggled', 'up', 'to', 'the', 'surface', 'and', 'tried', 'to', 'cry', 'out', 'but', 'the', 'wash', 'from', 'the', 'speeding', 'yacht', 'slapped', 'him', 'in', 'the', 'face', 'and', 'the', 'salt', 'water', 'in', 'his', 'open', 'mouth', 'made', 'him', 'gag', 'and', 'strangle', 'desperately', 'he', 'struck', 'out', 'with', 'strong', 'strokes', 'after', 'the', 'receding', 'lights', 'of', 'the', 'yacht', 'but', 'he', 'stopped', 'before', 'he', 'had', 'swum', 'fifty', 'feet', 'a', 'certain', 'coolheadedness', 'had', 'come', 'to', 'him', 'it', 'was', 'not', 'the', 'first', 'time', 'he', 'had', 'been', 'in', 'a', 'tight', 'place', 'there', 'was', 'a', 'chance', 'that', 'his', 'cries', 'could', 'be', 'heard', 'by', 'someone', 'aboard', 'the', 'yacht', 'but', 'that', 'chance', 'was', 'slender', 'and', 'grew', 'more', 'slender', 'as', 'the', 'yacht', 'raced', 'on', 'he', 'wrestled', 'himself', 'out', 'of', 'his', 'clothes', 'and', 'shouted', 'with', 'all', 'his', 'power', 'the', 'lights', 'of', 'the', 'yacht', 'became', 'faint', 'and', 'ever-vanishing', 'fireflies', 'then', 'they', 'were', 'blotted', 'out', 'entirely', 'by', 'the', 'night', 'rainsford', 'remembered', 'the', 'shots', 'they', 'had', 'come', 'from', 'the', 'right', 'and', 'doggedly', 'he', 'swam', 'in', 'that', 'direction', 'swimming', 'with', 'slow', 'deliberate', 'strokes', 'conserving', 'his', 'strength', 'for', 'a', 'seemingly', 'endless', 'time', 'he', 'fought', 'the', 'sea', 'he', 'began', 'to', 'count', 'his', 'strokes', 'he', 'could', 'do', 'possibly', 'a', 'hundred', 'more', 'and', 'then', 'rainsford', 'heard', 'a', 'sound', 'it', 'came', 'out', 'of', 'the', 'darkness', 'a', 'high', 'screaming', 'sound', 'the', 'sound', 'of', 'an', 'animal', 'in', 'an', 'extremity', 'of', 'anguish', 'and', 'terror', 'he', 'did', 'not', 'recognize', 'the', 'animal', 'that', 'made', 'the', 'sound', 'he', 'did', 'not', 'try', 'to', 'with', 'fresh', 'vitality', 'he', 'swam', 'toward', 'the', 'sound', 'he', 'heard', 'it', 'again', 'then', 'it', 'was', 'cut', 'short', 'by', 'another', 'noise', 'crisp', 'staccato', 'pistol', 'shot', 'muttered', 'rainsford', 'swimming', 'on', 'ten', 'minutes', 'of', 'determined', 'effort', 'brought', 'another', 'sound', 'to', 'his', 'ears', 'the', 'most', 'welcome', 'he', 'had', 'ever', 'heard', 'the', 'muttering', 'and', 'growling', 'of', 'the', 'sea', 'breaking', 'on', 'a', 'rocky', 'shore', 'he', 'was', 'almost', 'on', 'the', 'rocks', 'before', 'he', 'saw', 'them', 'on', 'a', 'night', 'less', 'calm', 'he', 'would', 'have', 'been', 'shattered', 'against', 'them', 'with', 'his', 'remaining', 'strength', 'he', 'dragged', 'himself', 'from', 'the', 'swirling', 'waters', 'jagged', 'crags', 'appeared', 'to', 'jut', 'up', 'into', 'the', 'opaqueness', 'he', 'forced', 'himself', 'upward', 'hand', 'over', 'hand', 'gasping', 'his', 'hands', 'raw', 'he', 'reached', 'a', 'flat', 'place', 'at', 'the', 'top', 'dense', 'jungle', 'came', 'down', 'to', 'the', 'very', 'edge', 'of', 'the', 'cliffs', 'what', 'perils', 'that', 'tangle', 'of', 'trees', 'and', 'underbrush', 'might', 'hold', 'for', 'him', 'did', 'not', 'concern', 'rainsford', 'just', 'then', 'all', 'he', 'knew', 'was', 'that', 'he', 'was', 'safe', 'from', 'his', 'enemy', 'the', 'sea', 'and', 'that', 'utter', 'weariness', 'was', 'on', 'him', 'he', 'flung', 'himself', 'down', 'at', 'the', 'jungle', 'edge', 'and', 'tumbled', 'headlong', 'into', 'the', 'deepest', 'sleep', 'of', 'his', 'life', 'when', 'he', 'opened', 'his', 'eyes', 'he', 'knew', 'from', 'the', 'position', 'of', 'the', 'sun', 'that', 'it', 'was', 'late', 'in', 'the', 'afternoon', 'sleep', 'had', 'given', 'him', 'new', 'vigor', 'a', 'sharp', 'hunger', 'was', 'picking', 'at', 'him', 'he', 'looked', 'about', 'him', 'almost', 'cheerfully', 'where', 'there', 'are', 'pistol', 'shots', 'there', 'are', 'men', 'where', 'there', 'are', 'men', 'there', 'is', 'food', 'he', 'thought', 'but', 'what', 'kind', 'of', 'men', 'he', 'wondered', 'in', 'so', 'forbidding', 'a', 'place', 'an', 'unbroken', 'front', 'of', 'snarled', 'and', 'ragged', 'jungle', 'fringed', 'the', 'shore', 'he', 'saw', 'no', 'sign', 'of', 'a', 'trail', 'through', 'the', 'closely', 'knit', 'web', 'of', 'weeds', 'and', 'trees', 'it', 'was', 'easier', 'to', 'go', 'along', 'the', 'shore', 'and', 'rainsford', 'floundered', 'along', 'by', 'the', 'water', 'not', 'far', 'from', 'where', 'he', 'landed', 'he', 'stopped', 'some', 'wounded', 'thing', 'by', 'the', 'evidence', 'a', 'large', 'animal', 'had', 'thrashed', 'about', 'in', 'the', 'underbrush', 'the', 'jungle', 'weeds', 'were', 'crushed', 'down', 'and', 'the', 'moss', 'was', 'lacerated', 'one', 'patch', 'of', 'weeds', 'was', 'stained', 'crimson', 'a', 'small', 'glittering', 'object', 'not', 'far', 'away', 'caught', 'rainsford', 's', 'eye', 'and', 'he', 'picked', 'it', 'up', 'it', 'was', 'an', 'empty', 'cartridge', 'a', 'twenty-two', 'he', 'remarked', 'that', 's', 'odd', 'it', 'must', 'have', 'been', 'a', 'fairly', 'large', 'animal', 'too', 'the', 'hunter', 'had', 'his', 'nerve', 'with', 'him', 'to', 'tackle', 'it', 'with', 'a', 'light', 'gun', 'it', 's', 'clear', 'that', 'the', 'brute', 'put', 'up', 'a', 'fight', 'i', 'suppose', 'the', 'first', 'three', 'shots', 'i', 'heard', 'was', 'when', 'the', 'hunter', 'flushed', 'his', 'quarry', 'and', 'wounded', 'it', 'the', 'last', 'shot', 'was', 'when', 'he', 'trailed', 'it', 'here', 'and', 'finished', 'it', 'he', 'examined', 'the', 'ground', 'closely', 'and', 'found', 'what', 'he', 'had', 'hoped', 'to', 'find', 'the', 'print', 'of', 'hunting', 'boots', 'they', 'pointed', 'along', 'the', 'cliff', 'in', 'the', 'direction', 'he', 'had', 'been', 'going', 'eagerly', 'he', 'hurried', 'along', 'now', 'slipping', 'on', 'a', 'rotten', 'log', 'or', 'a', 'loose', 'stone', 'but', 'making', 'headway', 'night', 'was', 'beginning', 'to', 'settle', 'down', 'on', 'the', 'island', 'bleak', 'darkness', 'was', 'blacking', 'out', 'the', 'sea', 'and', 'jungle', 'when', 'rainsford', 'sighted', 'the', 'lights', 'he', 'came', 'upon', 'them', 'as', 'he', 'turned', 'a', 'crook', 'in', 'the', 'coast', 'line', 'and', 'his', 'first', 'thought', 'was', 'that', 'be', 'had', 'come', 'upon', 'a', 'village', 'for', 'there', 'were', 'many', 'lights', 'but', 'as', 'he', 'forged', 'along', 'he', 'saw', 'to', 'his', 'great', 'astonishment', 'that', 'all', 'the', 'lights', 'were', 'in', 'one', 'enormous', 'building', 'a', 'lofty', 'structure', 'with', 'pointed', 'towers', 'plunging', 'upward', 'into', 'the', 'gloom', 'his', 'eyes', 'made', 'out', 'the', 'shadowy', 'outlines', 'of', 'a', 'palatial', 'chateau', 'it', 'was', 'set', 'on', 'a', 'high', 'bluff', 'and', 'on', 'three', 'sides', 'of', 'it', 'cliffs', 'dived', 'down', 'to', 'where', 'the', 'sea', 'licked', 'greedy', 'lips', 'in', 'the', 'shadows', 'mirage', 'thought', 'rainsford', 'but', 'it', 'was', 'no', 'mirage', 'he', 'found', 'when', 'he', 'opened', 'the', 'tall', 'spiked', 'iron', 'gate', 'the', 'stone', 'steps', 'were', 'real', 'enough', 'the', 'massive', 'door', 'with', 'a', 'leering', 'gargoyle', 'for', 'a', 'knocker', 'was', 'real', 'enough', 'yet', 'above', 'it', 'all', 'hung', 'an', 'air', 'of', 'unreality', 'he', 'lifted', 'the', 'knocker', 'and', 'it', 'creaked', 'up', 'stiffly', 'as', 'if', 'it', 'had', 'never', 'before', 'been', 'used', 'he', 'let', 'it', 'fall', 'and', 'it', 'startled', 'him', 'with', 'its', 'booming', 'loudness', 'he', 'thought', 'he', 'heard', 'steps', 'within', 'the', 'door', 'remained', 'closed', 'again', 'rainsford', 'lifted', 'the', 'heavy', 'knocker', 'and', 'let', 'it', 'fall', 'the', 'door', 'opened', 'then', 'opened', 'as', 'suddenly', 'as', 'if', 'it', 'were', 'on', 'a', 'spring', 'and', 'rainsford', 'stood', 'blinking', 'in', 'the', 'river', 'of', 'glaring', 'gold', 'light', 'that', 'poured', 'out', 'the', 'first', 'thing', 'rainsford', 's', 'eyes', 'discerned', 'was', 'the', 'largest', 'man', 'rainsford', 'had', 'ever', 'seen', 'a', 'gigantic', 'creature', 'solidly', 'made', 'and', 'black', 'bearded', 'to', 'the', 'waist', 'in', 'his', 'hand', 'the', 'man', 'held', 'a', 'long-barreled', 'revolver', 'and', 'he', 'was', 'pointing', 'it', 'straight', 'at', 'rainsford', 's', 'heart', 'out', 'of', 'the', 'snarl', 'of', 'beard', 'two', 'small', 'eyes', 'regarded', 'rainsford', 'don', 't', 'be', 'alarmed', 'said', 'rainsford', 'with', 'a', 'smile', 'which', 'he', 'hoped', 'was', 'disarming', 'i', 'm', 'no', 'robber', 'i', 'fell', 'off', 'a', 'yacht', 'my', 'name', 'is', 'sanger', 'rainsford', 'of', 'new', 'york', 'city', 'the', 'menacing', 'look', 'in', 'the', 'eyes', 'did', 'not', 'change', 'the', 'revolver', 'pointing', 'as', 'rigidly', 'as', 'if', 'the', 'giant', 'were', 'a', 'statue', 'he', 'gave', 'no', 'sign', 'that', 'he', 'understood', 'rainsford', 's', 'words', 'or', 'that', 'he', 'had', 'even', 'heard', 'them', 'he', 'was', 'dressed', 'in', 'uniform', 'a', 'black', 'uniform', 'trimmed', 'with', 'gray', 'astrakhan', 'i', 'm', 'sanger', 'rainsford', 'of', 'new', 'york', 'rainsford', 'began', 'again', 'i', 'fell', 'off', 'a', 'yacht', 'i', 'am', 'hungry', 'the', 'man', 's', 'only', 'answer', 'was', 'to', 'raise', 'with', 'his', 'thumb', 'the', 'hammer', 'of', 'his', 'revolver', 'then', 'rainsford', 'saw', 'the', 'man', 's', 'free', 'hand', 'go', 'to', 'his', 'forehead', 'in', 'a', 'military', 'salute', 'and', 'he', 'saw', 'him', 'click', 'his', 'heels', 'together', 'and', 'stand', 'at', 'attention', 'another', 'man', 'was', 'coming', 'down', 'the', 'broad', 'marble', 'steps', 'an', 'erect', 'slender', 'man', 'in', 'evening', 'clothes', 'he', 'advanced', 'to', 'rainsford', 'and', 'held', 'out', 'his', 'hand', 'in', 'a', 'cultivated', 'voice', 'marked', 'by', 'a', 'slight', 'accent', 'that', 'gave', 'it', 'added', 'precision', 'and', 'deliberateness', 'he', 'said', 'it', 'is', 'a', 'very', 'great', 'pleasure', 'and', 'honor', 'to', 'welcome', 'mr', 'sanger', 'rainsford', 'the', 'celebrated', 'hunter', 'to', 'my', 'home', 'automatically', 'rainsford', 'shook', 'the', 'man', 's', 'hand', 'i', 've', 'read', 'your', 'book', 'about', 'hunting', 'snow', 'leopards', 'in', 'tibet', 'you', 'see', 'explained', 'the', 'man', 'i', 'am', 'general', 'zaroff', 'rainsford', 's', 'first', 'impression', 'was', 'that', 'the', 'man', 'was', 'singularly', 'handsome', 'his', 'second', 'was', 'that', 'there', 'was', 'an', 'original', 'almost', 'bizarre', 'quality', 'about', 'the', 'general', 's', 'face', 'he', 'was', 'a', 'tall', 'man', 'past', 'middle', 'age', 'for', 'his', 'hair', 'was', 'a', 'vivid', 'white', 'but', 'his', 'thick', 'eyebrows', 'and', 'pointed', 'military', 'mustache', 'were', 'as', 'black', 'as', 'the', 'night', 'from', 'which', 'rainsford', 'had', 'come', 'his', 'eyes', 'too', 'were', 'black', 'and', 'very', 'bright', 'he', 'had', 'high', 'cheekbones', 'a', 'sharpcut', 'nose', 'a', 'spare', 'dark', 'face', 'the', 'face', 'of', 'a', 'man', 'used', 'to', 'giving', 'orders', 'the', 'face', 'of', 'an', 'aristocrat', 'turning', 'to', 'the', 'giant', 'in', 'uniform', 'the', 'general', 'made', 'a', 'sign', 'the', 'giant', 'put', 'away', 'his', 'pistol', 'saluted', 'withdrew', 'ivan', 'is', 'an', 'incredibly', 'strong', 'fellow', 'remarked', 'the', 'general', 'but', 'he', 'has', 'the', 'misfortune', 'to', 'be', 'deaf', 'and', 'dumb', 'a', 'simple', 'fellow', 'but', 'i', 'm', 'afraid', 'like', 'all', 'his', 'race', 'a', 'bit', 'of', 'a', 'savage', 'is', 'he', 'russian', 'he', 'is', 'a', 'cossack', 'said', 'the', 'general', 'and', 'his', 'smile', 'showed', 'red', 'lips', 'and', 'pointed', 'teeth', 'so', 'am', 'i', 'come', 'he', 'said', 'we', 'shouldn', 't', 'be', 'chatting', 'here', 'we', 'can', 'talk', 'later', 'now', 'you', 'want', 'clothes', 'food', 'rest', 'you', 'shall', 'have', 'them', 'this', 'is', 'a', 'most-restful', 'spot', 'ivan', 'had', 'reappeared', 'and', 'the', 'general', 'spoke', 'to', 'him', 'with', 'lips', 'that', 'moved', 'but', 'gave', 'forth', 'no', 'sound', 'follow', 'ivan', 'if', 'you', 'please', 'mr', 'rainsford', 'said', 'the', 'general', 'i', 'was', 'about', 'to', 'have', 'my', 'dinner', 'when', 'you', 'came', 'i', 'll', 'wait', 'for', 'you', 'you', 'll', 'find', 'that', 'my', 'clothes', 'will', 'fit', 'you', 'i', 'think', 'it', 'was', 'to', 'a', 'huge', 'beam-ceilinged', 'bedroom', 'with', 'a', 'canopied', 'bed', 'big', 'enough', 'for', 'six', 'men', 'that', 'rainsford', 'followed', 'the', 'silent', 'giant', 'ivan', 'laid', 'out', 'an', 'evening', 'suit', 'and', 'rainsford', 'as', 'he', 'put', 'it', 'on', 'noticed', 'that', 'it', 'came', 'from', 'a', 'london', 'tailor', 'who', 'ordinarily', 'cut', 'and', 'sewed', 'for', 'none', 'below', 'the', 'rank', 'of', 'duke', 'the', 'dining', 'room', 'to', 'which', 'ivan', 'conducted', 'him', 'was', 'in', 'many', 'ways', 'remarkable', 'there', 'was', 'a', 'medieval', 'magnificence', 'about', 'it', 'it', 'suggested', 'a', 'baronial', 'hall', 'of', 'feudal', 'times', 'with', 'its', 'oaken', 'panels', 'its', 'high', 'ceiling', 'its', 'vast', 'refectory', 'tables', 'where', 'twoscore', 'men', 'could', 'sit', 'down', 'to', 'eat', 'about', 'the', 'hall', 'were', 'mounted', 'heads', 'of', 'many', 'animals', 'lions', 'tigers', 'elephants', 'moose', 'bears', 'larger', 'or', 'more', 'perfect', 'specimens', 'rainsford', 'had', 'never', 'seen', 'at', 'the', 'great', 'table', 'the', 'general', 'was', 'sitting', 'alone', 'you', 'll', 'have', 'a', 'cocktail', 'mr', 'rainsford', 'he', 'suggested', 'the', 'cocktail', 'was', 'surpassingly', 'good', 'and', 'rainsford', 'noted', 'the', 'table', 'apointments', 'were', 'of', 'the', 'finest', 'the', 'linen', 'the', 'crystal', 'the', 'silver', 'the', 'china', 'they', 'were', 'eating', 'borsch', 'the', 'rich', 'red', 'soup', 'with', 'whipped', 'cream', 'so', 'dear', 'to', 'russian', 'palates', 'half', 'apologetically', 'general', 'zaroff', 'said', 'we', 'do', 'our', 'best', 'to', 'preserve', 'the', 'amenities', 'of', 'civilization', 'here', 'please', 'forgive', 'any', 'lapses', 'we', 'are', 'well', 'off', 'the', 'beaten', 'track', 'you', 'know', 'do', 'you', 'think', 'the', 'champagne', 'has', 'suffered', 'from', 'its', 'long', 'ocean', 'trip', 'not', 'in', 'the', 'least', 'declared', 'rainsford', 'he', 'was', 'finding', 'the', 'general', 'a', 'most', 'thoughtful', 'and', 'affable', 'host', 'a', 'true', 'cosmopolite', 'but', 'there', 'was', 'one', 'small', 'trait', 'of', 'the', 'general', 's', 'that', 'made', 'rainsford', 'uncomfortable', 'whenever', 'he', 'looked', 'up', 'from', 'his', 'plate', 'he', 'found', 'the', 'general', 'studying', 'him', 'appraising', 'him', 'narrowly', 'perhaps', 'said', 'general', 'zaroff', 'you', 'were', 'surprised', 'that', 'i', 'recognized', 'your', 'name', 'you', 'see', 'i', 'read', 'all', 'books', 'on', 'hunting', 'published', 'in', 'english', 'french', 'and', 'russian', 'i', 'have', 'but', 'one', 'passion', 'in', 'my', 'life', 'mr', 'rains', 'ford', 'and', 'it', 'is', 'the', 'hunt', 'you', 'have', 'some', 'wonderful', 'heads', 'here', 'said', 'rainsford', 'as', 'he', 'ate', 'a', 'particularly', 'well-cooked', 'filet', 'mignon', 'that', 'cape', 'buffalo', 'is', 'the', 'largest', 'i', 'ever', 'saw', 'oh', 'that', 'fellow', 'yes', 'he', 'was', 'a', 'monster', 'did', 'he', 'charge', 'you', 'hurled', 'me', 'against', 'a', 'tree', 'said', 'the', 'general', 'fractured', 'my', 'skull', 'but', 'i', 'got', 'the', 'brute', 'i', 've', 'always', 'thought', 'said', 'rains', 'ord', 'that', 'the', 'cape', 'buffalo', 'is', 'the', 'most', 'dangerous', 'of', 'all', 'big', 'game', 'for', 'a', 'moment', 'the', 'general', 'did', 'not', 'reply', 'he', 'was', 'smiling', 'his', 'curious', 'red-lipped', 'smile', 'then', 'he', 'said', 'slowly', 'no', 'you', 'are', 'wrong', 'sir', 'the', 'cape', 'buffalo', 'is', 'not', 'the', 'most', 'dangerous', 'big', 'game', 'he', 'sipped', 'his', 'wine', 'here', 'in', 'my', 'preserve', 'on', 'this', 'island', 'he', 'said', 'in', 'the', 'same', 'slow', 'tone', 'i', 'hunt', 'more', 'dangerous', 'game', 'rainsford', 'expressed', 'his', 'surprise', 'is', 'there', 'big', 'game', 'on', 'this', 'island', 'the', 'general', 'nodded', 'the', 'biggest', 'really', 'oh', 'it', 'isn', 't', 'here', 'naturally', 'of', 'course', 'i', 'have', 'to', 'stock', 'the', 'island', 'what', 'have', 'you', 'imported', 'general', 'rainsford', 'asked', 'tigers', 'the', 'general', 'smiled', 'no', 'he', 'said', 'hunting', 'tigers', 'ceased', 'to', 'interest', 'me', 'some', 'years', 'ago', 'i', 'exhausted', 'their', 'possibilities', 'you', 'see', 'no', 'thrill', 'left', 'in', 'tigers', 'no', 'real', 'danger', 'i', 'live', 'for', 'danger', 'mr', 'rainsford', 'the', 'general', 'took', 'from', 'his', 'pocket', 'a', 'gold', 'cigarette', 'case', 'and', 'offered', 'his', 'guest', 'a', 'long', 'black', 'cigarette', 'with', 'a', 'silver', 'tip', 'it', 'was', 'perfumed', 'and', 'gave', 'off', 'a', 'smell', 'like', 'incense', 'we', 'will', 'have', 'some', 'capital', 'hunting', 'you', 'and', 'i', 'said', 'the', 'general', 'i', 'shall', 'be', 'most', 'glad', 'to', 'have', 'your', 'society', 'but', 'what', 'game', 'began', 'rainsford', 'i', 'll', 'tell', 'you', 'said', 'the', 'general', 'you', 'will', 'be', 'amused', 'i', 'know', 'i', 'think', 'i', 'may', 'say', 'in', 'all', 'modesty', 'that', 'i', 'have', 'done', 'a', 'rare', 'thing', 'i', 'have', 'invented', 'a', 'new', 'sensation', 'may', 'i', 'pour', 'you', 'another', 'glass', 'of', 'port', 'thank', 'you', 'general', 'the', 'general', 'filled', 'both', 'glasses', 'and', 'said', 'god', 'makes', 'some', 'men', 'poets', 'some', 'he', 'makes', 'kings', 'some', 'beggars', 'me', 'he', 'made', 'a', 'hunter', 'my', 'hand', 'was', 'made', 'for', 'the', 'trigger', 'my', 'father', 'said', 'he', 'was', 'a', 'very', 'rich', 'man', 'with', 'a', 'quarter', 'of', 'a', 'million', 'acres', 'in', 'the', 'crimea', 'and', 'he', 'was', 'an', 'ardent', 'sportsman', 'when', 'i', 'was', 'only', 'five', 'years', 'old', 'he', 'gave', 'me', 'a', 'little', 'gun', 'specially', 'made', 'in', 'moscow', 'for', 'me', 'to', 'shoot', 'sparrows', 'with', 'when', 'i', 'shot', 'some', 'of', 'his', 'prize', 'turkeys', 'with', 'it', 'he', 'did', 'not', 'punish', 'me', 'he', 'complimented', 'me', 'on', 'my', 'marksmanship', 'i', 'killed', 'my', 'first', 'bear', 'in', 'the', 'caucasus', 'when', 'i', 'was', 'ten', 'my', 'whole', 'life', 'has', 'been', 'one', 'prolonged', 'hunt', 'i', 'went', 'into', 'the', 'army', 'it', 'was', 'expected', 'of', 'noblemen', 's', 'sons', 'and', 'for', 'a', 'time', 'commanded', 'a', 'division', 'of', 'cossack', 'cavalry', 'but', 'my', 'real', 'interest', 'was', 'always', 'the', 'hunt', 'i', 'have', 'hunted', 'every', 'kind', 'of', 'game', 'in', 'every', 'land', 'it', 'would', 'be', 'impossible', 'for', 'me', 'to', 'tell', 'you', 'how', 'many', 'animals', 'i', 'have', 'killed', 'the', 'general', 'puffed', 'at', 'his', 'cigarette', 'after', 'the', 'debacle', 'in', 'russia', 'i', 'left', 'the', 'country', 'for', 'it', 'was', 'imprudent', 'for', 'an', 'officer', 'of', 'the', 'czar', 'to', 'stay', 'there', 'many', 'noble', 'russians', 'lost', 'everything', 'i', 'luckily', 'had', 'invested', 'heavily', 'in', 'american', 'securities', 'so', 'i', 'shall', 'never', 'have', 'to', 'open', 'a', 'tearoom', 'in', 'monte', 'carlo', 'or', 'drive', 'a', 'taxi', 'in', 'paris', 'naturally', 'i', 'continued', 'to', 'hunt', 'grizzliest', 'in', 'your', 'rockies', 'crocodiles', 'in', 'the', 'ganges', 'rhinoceroses', 'in', 'east', 'africa', 'it', 'was', 'in', 'africa', 'that', 'the', 'cape', 'buffalo', 'hit', 'me', 'and', 'laid', 'me', 'up', 'for', 'six', 'months', 'as', 'soon', 'as', 'i', 'recovered', 'i', 'started', 'for', 'the', 'amazon', 'to', 'hunt', 'jaguars', 'for', 'i', 'had', 'heard', 'they', 'were', 'unusually', 'cunning', 'they', 'weren', 't', 'the', 'cossack', 'sighed', 'they', 'were', 'no', 'match', 'at', 'all', 'for', 'a', 'hunter', 'with', 'his', 'wits', 'about', 'him', 'and', 'a', 'high-powered', 'rifle', 'i', 'was', 'bitterly', 'disappointed', 'i', 'was', 'lying', 'in', 'my', 'tent', 'with', 'a', 'splitting', 'headache', 'one', 'night', 'when', 'a', 'terrible', 'thought', 'pushed', 'its', 'way', 'into', 'my', 'mind', 'hunting', 'was', 'beginning', 'to', 'bore', 'me', 'and', 'hunting', 'remember', 'had', 'been', 'my', 'life', 'i', 'have', 'heard', 'that', 'in', 'america', 'businessmen', 'often', 'go', 'to', 'pieces', 'when', 'they', 'give', 'up', 'the', 'business', 'that', 'has', 'been', 'their', 'life', 'yes', 'that', 's', 'so', 'said', 'rainsford', 'the', 'general', 'smiled', 'i', 'had', 'no', 'wish', 'to', 'go', 'to', 'pieces', 'he', 'said', 'i', 'must', 'do', 'something', 'now', 'mine', 'is', 'an', 'analytical', 'mind', 'mr', 'rainsford', 'doubtless', 'that', 'is', 'why', 'i', 'enjoy', 'the', 'problems', 'of', 'the', 'chase', 'no', 'doubt', 'general', 'zaroff', 'so', 'continued', 'the', 'general', 'i', 'asked', 'myself', 'why', 'the', 'hunt', 'no', 'longer', 'fascinated', 'me', 'you', 'are', 'much', 'younger', 'than', 'i', 'am', 'mr', 'rainsford', 'and', 'have', 'not', 'hunted', 'as', 'much', 'but', 'you', 'perhaps', 'can', 'guess', 'the', 'answer', 'what', 'was', 'it', 'simply', 'this', 'hunting', 'had', 'ceased', 'to', 'be', 'what', 'you', 'call', 'a', 'sporting', 'proposition', 'it', 'had', 'become', 'too', 'easy', 'i', 'always', 'got', 'my', 'quarry', 'always', 'there', 'is', 'no', 'greater', 'bore', 'than', 'perfection', 'the', 'general', 'lit', 'a', 'fresh', 'cigarette', 'no', 'animal', 'had', 'a', 'chance', 'with', 'me', 'any', 'more', 'that', 'is', 'no', 'boast', 'it', 'is', 'a', 'mathematical', 'certainty', 'the', 'animal', 'had', 'nothing', 'but', 'his', 'legs', 'and', 'his', 'instinct', 'instinct', 'is', 'no', 'match', 'for', 'reason', 'when', 'i', 'thought', 'of', 'this', 'it', 'was', 'a', 'tragic', 'moment', 'for', 'me', 'i', 'can', 'tell', 'you', 'rainsford', 'leaned', 'across', 'the', 'table', 'absorbed', 'in', 'what', 'his', 'host', 'was', 'saying', 'it', 'came', 'to', 'me', 'as', 'an', 'inspiration', 'what', 'i', 'must', 'do', 'the', 'general', 'went', 'on', 'and', 'that', 'was', 'the', 'general', 'smiled', 'the', 'quiet', 'smile', 'of', 'one', 'who', 'has', 'faced', 'an', 'obstacle', 'and', 'surmounted', 'it', 'with', 'success', 'i', 'had', 'to', 'invent', 'a', 'new', 'animal', 'to', 'hunt', 'he', 'said', 'a', 'new', 'animal', 'you', 're', 'joking', 'not', 'at', 'all', 'said', 'the', 'general', 'i', 'never', 'joke', 'about', 'hunting', 'i', 'needed', 'a', 'new', 'animal', 'i', 'found', 'one', 'so', 'i', 'bought', 'this', 'island', 'built', 'this', 'house', 'and', 'here', 'i', 'do', 'my', 'hunting', 'the', 'island', 'is', 'perfect', 'for', 'my', 'purposes', 'there', 'are', 'jungles', 'with', 'a', 'maze', 'of', 'traits', 'in', 'them', 'hills', 'swamps', 'but', 'the', 'animal', 'general', 'zaroff', 'oh', 'said', 'the', 'general', 'it', 'supplies', 'me', 'with', 'the', 'most', 'exciting', 'hunting', 'in', 'the', 'world', 'no', 'other', 'hunting', 'compares', 'with', 'it', 'for', 'an', 'instant', 'every', 'day', 'i', 'hunt', 'and', 'i', 'never', 'grow', 'bored', 'now', 'for', 'i', 'have', 'a', 'quarry', 'with', 'which', 'i', 'can', 'match', 'my', 'wits', 'rainsford', 's', 'bewilderment', 'showed', 'in', 'his', 'face', 'i', 'wanted', 'the', 'ideal', 'animal', 'to', 'hunt', 'explained', 'the', 'general', 'so', 'i', 'said', 'what', 'are', 'the', 'attributes', 'of', 'an', 'ideal', 'quarry', 'and', 'the', 'answer', 'was', 'of', 'course', 'it', 'must', 'have', 'courage', 'cunning', 'and', 'above', 'all', 'it', 'must', 'be', 'able', 'to', 'reason', 'but', 'no', 'animal', 'can', 'reason', 'objected', 'rainsford', 'my', 'dear', 'fellow', 'said', 'the', 'general', 'there', 'is', 'one', 'that', 'can', 'but', 'you', 'can', 't', 'mean', 'gasped', 'rainsford', 'and', 'why', 'not', 'i', 'can', 't', 'believe', 'you', 'are', 'serious', 'general', 'zaroff', 'this', 'is', 'a', 'grisly', 'joke', 'why', 'should', 'i', 'not', 'be', 'serious', 'i', 'am', 'speaking', 'of', 'hunting', 'hunting', 'great', 'guns', 'general', 'zaroff', 'what', 'you', 'speak', 'of', 'is', 'murder', 'the', 'general', 'laughed', 'with', 'entire', 'good', 'nature', 'he', 'regarded', 'rainsford', 'quizzically', 'i', 'refuse', 'to', 'believe', 'that', 'so', 'modern', 'and', 'civilized', 'a', 'young', 'man', 'as', 'you', 'seem', 'to', 'be', 'harbors', 'romantic', 'ideas', 'about', 'the', 'value', 'of', 'human', 'life', 'surely', 'your', 'experiences', 'in', 'the', 'war', 'did', 'not', 'make', 'me', 'condone', 'cold-blooded', 'murder', 'finished', 'rainsford', 'stiffly', 'laughter', 'shook', 'the', 'general', 'how', 'extraordinarily', 'droll', 'you', 'are', 'he', 'said', 'one', 'does', 'not', 'expect', 'nowadays', 'to', 'find', 'a', 'young', 'man', 'of', 'the', 'educated', 'class', 'even', 'in', 'america', 'with', 'such', 'a', 'naive', 'and', 'if', 'i', 'may', 'say', 'so', 'mid-victorian', 'point', 'of', 'view', 'it', 's', 'like', 'finding', 'a', 'snuffbox', 'in', 'a', 'limousine', 'ah', 'well', 'doubtless', 'you', 'had', 'puritan', 'ancestors', 'so', 'many', 'americans', 'appear', 'to', 'have', 'had', 'i', 'll', 'wager', 'you', 'll', 'forget', 'your', 'notions', 'when', 'you', 'go', 'hunting', 'with', 'me', 'you', 've', 'a', 'genuine', 'new', 'thrill', 'in', 'store', 'for', 'you', 'mr', 'rainsford', 'thank', 'you', 'i', 'm', 'a', 'hunter', 'not', 'a', 'murderer', 'dear', 'me', 'said', 'the', 'general', 'quite', 'unruffled', 'again', 'that', 'unpleasant', 'word', 'but', 'i', 'think', 'i', 'can', 'show', 'you', 'that', 'your', 'scruples', 'are', 'quite', 'ill', 'founded', 'yes', 'life', 'is', 'for', 'the', 'strong', 'to', 'be', 'lived', 'by', 'the', 'strong', 'and', 'if', 'needs', 'be', 'taken', 'by', 'the', 'strong', 'the', 'weak', 'of', 'the', 'world', 'were', 'put', 'here', 'to', 'give', 'the', 'strong', 'pleasure', 'i', 'am', 'strong', 'why', 'should', 'i', 'not', 'use', 'my', 'gift', 'if', 'i', 'wish', 'to', 'hunt', 'why', 'should', 'i', 'not', 'i', 'hunt', 'the', 'scum', 'of', 'the', 'earth', 'sailors', 'from', 'tramp', 'ships', 'lassars', 'blacks', 'chinese', 'whites', 'mongrels', 'a', 'thoroughbred', 'horse', 'or', 'hound', 'is', 'worth', 'more', 'than', 'a', 'score', 'of', 'them', 'but', 'they', 'are', 'men', 'said', 'rainsford', 'hotly', 'precisely', 'said', 'the', 'general', 'that', 'is', 'why', 'i', 'use', 'them', 'it', 'gives', 'me', 'pleasure', 'they', 'can', 'reason', 'after', 'a', 'fashion', 'so', 'they', 'are', 'dangerous', 'but', 'where', 'do', 'you', 'get', 'them', 'the', 'general', 's', 'left', 'eyelid', 'fluttered', 'down', 'in', 'a', 'wink', 'this', 'island', 'is', 'called', 'ship', 'trap', 'he', 'answered', 'sometimes', 'an', 'angry', 'god', 'of', 'the', 'high', 'seas', 'sends', 'them', 'to', 'me', 'sometimes', 'when', 'providence', 'is', 'not', 'so', 'kind', 'i', 'help', 'providence', 'a', 'bit', 'come', 'to', 'the', 'window', 'with', 'me', 'rainsford', 'went', 'to', 'the', 'window', 'and', 'looked', 'out', 'toward', 'the', 'sea', 'watch', 'out', 'there', 'exclaimed', 'the', 'general', 'pointing', 'into', 'the', 'night', 'rainsford', 's', 'eyes', 'saw', 'only', 'blackness', 'and', 'then', 'as', 'the', 'general', 'pressed', 'a', 'button', 'far', 'out', 'to', 'sea', 'rainsford', 'saw', 'the', 'flash', 'of', 'lights', 'the', 'general', 'chuckled', 'they', 'indicate', 'a', 'channel', 'he', 'said', 'where', 'there', 's', 'none', 'giant', 'rocks', 'with', 'razor', 'edges', 'crouch', 'like', 'a', 'sea', 'monster', 'with', 'wide-open', 'jaws', 'they', 'can', 'crush', 'a', 'ship', 'as', 'easily', 'as', 'i', 'crush', 'this', 'nut', 'he', 'dropped', 'a', 'walnut', 'on', 'the', 'hardwood', 'floor', 'and', 'brought', 'his', 'heel', 'grinding', 'down', 'on', 'it', 'oh', 'yes', 'he', 'said', 'casually', 'as', 'if', 'in', 'answer', 'to', 'a', 'question', 'i', 'have', 'electricity', 'we', 'try', 'to', 'be', 'civilized', 'here', 'civilized', 'and', 'you', 'shoot', 'down', 'men', 'a', 'trace', 'of', 'anger', 'was', 'in', 'the', 'general', 's', 'black', 'eyes', 'but', 'it', 'was', 'there', 'for', 'but', 'a', 'second', 'and', 'he', 'said', 'in', 'his', 'most', 'pleasant', 'manner', 'dear', 'me', 'what', 'a', 'righteous', 'young', 'man', 'you', 'are', 'i', 'assure', 'you', 'i', 'do', 'not', 'do', 'the', 'thing', 'you', 'suggest', 'that', 'would', 'be', 'barbarous', 'i', 'treat', 'these', 'visitors', 'with', 'every', 'consideration', 'they', 'get', 'plenty', 'of', 'good', 'food', 'and', 'exercise', 'they', 'get', 'into', 'splendid', 'physical', 'condition', 'you', 'shall', 'see', 'for', 'yourself', 'tomorrow', 'what', 'do', 'you', 'mean', 'we', 'll', 'visit', 'my', 'training', 'school', 'smiled', 'the', 'general', 'it', 's', 'in', 'the', 'cellar', 'i', 'have', 'about', 'a', 'dozen', 'pupils', 'down', 'there', 'now', 'they', 're', 'from', 'the', 'spanish', 'bark', 'san', 'lucar', 'that', 'had', 'the', 'bad', 'luck', 'to', 'go', 'on', 'the', 'rocks', 'out', 'there', 'a', 'very', 'inferior', 'lot', 'i', 'regret', 'to', 'say', 'poor', 'specimens', 'and', 'more', 'accustomed', 'to', 'the', 'deck', 'than', 'to', 'the', 'jungle', 'he', 'raised', 'his', 'hand', 'and', 'ivan', 'who', 'served', 'as', 'waiter', 'brought', 'thick', 'turkish', 'coffee', 'rainsford', 'with', 'an', 'effort', 'held', 'his', 'tongue', 'in', 'check', 'it', 's', 'a', 'game', 'you', 'see', 'pursued', 'the', 'general', 'blandly', 'i', 'suggest', 'to', 'one', 'of', 'them', 'that', 'we', 'go', 'hunting', 'i', 'give', 'him', 'a', 'supply', 'of', 'food', 'and', 'an', 'excellent', 'hunting', 'knife', 'i', 'give', 'him', 'three', 'hours', 'start', 'i', 'am', 'to', 'follow', 'armed', 'only', 'with', 'a', 'pistol', 'of', 'the', 'smallest', 'caliber', 'and', 'range', 'if', 'my', 'quarry', 'eludes', 'me', 'for', 'three', 'whole', 'days', 'he', 'wins', 'the', 'game', 'if', 'i', 'find', 'him', 'the', 'general', 'smiled', 'he', 'loses', 'suppose', 'he', 'refuses', 'to', 'be', 'hunted', 'oh', 'said', 'the', 'general', 'i', 'give', 'him', 'his', 'option', 'of', 'course', 'he', 'need', 'not', 'play', 'that', 'game', 'if', 'he', 'doesn', 't', 'wish', 'to', 'if', 'he', 'does', 'not', 'wish', 'to', 'hunt', 'i', 'turn', 'him', 'over', 'to', 'ivan', 'ivan', 'once', 'had', 'the', 'honor', 'of', 'serving', 'as', 'official', 'knouter', 'to', 'the', 'great', 'white', 'czar', 'and', 'he', 'has', 'his', 'own', 'ideas', 'of', 'sport', 'invariably', 'mr', 'rainsford', 'invariably', 'they', 'choose', 'the', 'hunt', 'and', 'if', 'they', 'win', 'the', 'smile', 'on', 'the', 'general', 's', 'face', 'widened', 'to', 'date', 'i', 'have', 'not', 'lost', 'he', 'said', 'then', 'he', 'added', 'hastily', 'i', 'don', 't', 'wish', 'you', 'to', 'think', 'me', 'a', 'braggart', 'mr', 'rainsford', 'many', 'of', 'them', 'afford', 'only', 'the', 'most', 'elementary', 'sort', 'of', 'problem', 'occasionally', 'i', 'strike', 'a', 'tartar', 'one', 'almost', 'did', 'win', 'i', 'eventually', 'had', 'to', 'use', 'the', 'dogs', 'the', 'dogs', 'this', 'way', 'please', 'i', 'll', 'show', 'you', 'the', 'general', 'steered', 'rainsford', 'to', 'a', 'window', 'the', 'lights', 'from', 'the', 'windows', 'sent', 'a', 'flickering', 'illumination', 'that', 'made', 'grotesque', 'patterns', 'on', 'the', 'courtyard', 'below', 'and', 'rainsford', 'could', 'see', 'moving', 'about', 'there', 'a', 'dozen', 'or', 'so', 'huge', 'black', 'shapes', 'as', 'they', 'turned', 'toward', 'him', 'their', 'eyes', 'glittered', 'greenly', 'a', 'rather', 'good', 'lot', 'i', 'think', 'observed', 'the', 'general', 'they', 'are', 'let', 'out', 'at', 'seven', 'every', 'night', 'if', 'anyone', 'should', 'try', 'to', 'get', 'into', 'my', 'house', 'or', 'out', 'of', 'it', 'something', 'extremely', 'regrettable', 'would', 'occur', 'to', 'him', 'he', 'hummed', 'a', 'snatch', 'of', 'song', 'from', 'the', 'folies', 'bergere', 'and', 'now', 'said', 'the', 'general', 'i', 'want', 'to', 'show', 'you', 'my', 'new', 'collection', 'of', 'heads', 'will', 'you', 'come', 'with', 'me', 'to', 'the', 'library', 'i', 'hope', 'said', 'rainsford', 'that', 'you', 'will', 'excuse', 'me', 'tonight', 'general', 'zaroff', 'i', 'm', 'really', 'not', 'feeling', 'well', 'ah', 'indeed', 'the', 'general', 'inquired', 'solicitously', 'well', 'i', 'suppose', 'that', 's', 'only', 'natural', 'after', 'your', 'long', 'swim', 'you', 'need', 'a', 'good', 'restful', 'night', 's', 'sleep', 'tomorrow', 'you', 'll', 'feel', 'like', 'a', 'new', 'man', 'i', 'll', 'wager', 'then', 'we', 'll', 'hunt', 'eh', 'i', 've', 'one', 'rather', 'promising', 'prospect', 'rainsford', 'was', 'hurrying', 'from', 'the', 'room', 'sorry', 'you', 'can', 't', 'go', 'with', 'me', 'tonight', 'called', 'the', 'general', 'i', 'expect', 'rather', 'fair', 'sport', 'a', 'big', 'strong', 'black', 'he', 'looks', 'resourceful', 'well', 'good', 'night', 'mr', 'rainsford', 'i', 'hope', 'you', 'have', 'a', 'good', 'night', 's', 'rest', 'the', 'bed', 'was', 'good', 'and', 'the', 'pajamas', 'of', 'the', 'softest', 'silk', 'and', 'he', 'was', 'tired', 'in', 'every', 'fiber', 'of', 'his', 'being', 'but', 'nevertheless', 'rainsford', 'could', 'not', 'quiet', 'his', 'brain', 'with', 'the', 'opiate', 'of', 'sleep', 'he', 'lay', 'eyes', 'wide', 'open', 'once', 'he', 'thought', 'he', 'heard', 'stealthy', 'steps', 'in', 'the', 'corridor', 'outside', 'his', 'room', 'he', 'sought', 'to', 'throw', 'open', 'the', 'door', 'it', 'would', 'not', 'open', 'he', 'went', 'to', 'the', 'window', 'and', 'looked', 'out', 'his', 'room', 'was', 'high', 'up', 'in', 'one', 'of', 'the', 'towers', 'the', 'lights', 'of', 'the', 'chateau', 'were', 'out', 'now', 'and', 'it', 'was', 'dark', 'and', 'silent', 'but', 'there', 'was', 'a', 'fragment', 'of', 'sallow', 'moon', 'and', 'by', 'its', 'wan', 'light', 'he', 'could', 'see', 'dimly', 'the', 'courtyard', 'there', 'weaving', 'in', 'and', 'out', 'in', 'the', 'pattern', 'of', 'shadow', 'were', 'black', 'noiseless', 'forms', 'the', 'hounds', 'heard', 'him', 'at', 'the', 'window', 'and', 'looked', 'up', 'expectantly', 'with', 'their', 'green', 'eyes', 'rainsford', 'went', 'back', 'to', 'the', 'bed', 'and', 'lay', 'down', 'by', 'many', 'methods', 'he', 'tried', 'to', 'put', 'himself', 'to', 'sleep', 'he', 'had', 'achieved', 'a', 'doze', 'when', 'just', 'as', 'morning', 'began', 'to', 'come', 'he', 'heard', 'far', 'off', 'in', 'the', 'jungle', 'the', 'faint', 'report', 'of', 'a', 'pistol', 'general', 'zaroff', 'did', 'not', 'appear', 'until', 'luncheon', 'he', 'was', 'dressed', 'faultlessly', 'in', 'the', 'tweeds', 'of', 'a', 'country', 'squire', 'he', 'was', 'solicitous', 'about', 'the', 'state', 'of', 'rainsford', 's', 'health', 'as', 'for', 'me', 'sighed', 'the', 'general', 'i', 'do', 'not', 'feel', 'so', 'well', 'i', 'am', 'worried', 'mr', 'rainsford', 'last', 'night', 'i', 'detected', 'traces', 'of', 'my', 'old', 'complaint', 'to', 'rainsford', 's', 'questioning', 'glance', 'the', 'general', 'said', 'ennui', 'boredom', 'then', 'taking', 'a', 'second', 'helping', 'of', 'cr', 'pes', 'suzette', 'the', 'general', 'explained', 'the', 'hunting', 'was', 'not', 'good', 'last', 'night', 'the', 'fellow', 'lost', 'his', 'head', 'he', 'made', 'a', 'straight', 'trail', 'that', 'offered', 'no', 'problems', 'at', 'all', 'that', 's', 'the', 'trouble', 'with', 'these', 'sailors', 'they', 'have', 'dull', 'brains', 'to', 'begin', 'with', 'and', 'they', 'do', 'not', 'know', 'how', 'to', 'get', 'about', 'in', 'the', 'woods', 'they', 'do', 'excessively', 'stupid', 'and', 'obvious', 'things', 'it', 's', 'most', 'annoying', 'will', 'you', 'have', 'another', 'glass', 'of', 'chablis', 'mr', 'rainsford', 'general', 'said', 'rainsford', 'firmly', 'i', 'wish', 'to', 'leave', 'this', 'island', 'at', 'once', 'the', 'general', 'raised', 'his', 'thickets', 'of', 'eyebrows', 'he', 'seemed', 'hurt', 'but', 'my', 'dear', 'fellow', 'the', 'general', 'protested', 'you', 've', 'only', 'just', 'come', 'you', 've', 'had', 'no', 'hunting', 'i', 'wish', 'to', 'go', 'today', 'said', 'rainsford', 'he', 'saw', 'the', 'dead', 'black', 'eyes', 'of', 'the', 'general', 'on', 'him', 'studying', 'him', 'general', 'zaroff', 's', 'face', 'suddenly', 'brightened', 'he', 'filled', 'rainsford', 's', 'glass', 'with', 'venerable', 'chablis', 'from', 'a', 'dusty', 'bottle', 'tonight', 'said', 'the', 'general', 'we', 'will', 'hunt', 'you', 'and', 'i', 'rainsford', 'shook', 'his', 'head', 'no', 'general', 'he', 'said', 'i', 'will', 'not', 'hunt', 'the', 'general', 'shrugged', 'his', 'shoulders', 'and', 'delicately', 'ate', 'a', 'hothouse', 'grape', 'as', 'you', 'wish', 'my', 'friend', 'he', 'said', 'the', 'choice', 'rests', 'entirely', 'with', 'you', 'but', 'may', 'i', 'not', 'venture', 'to', 'suggest', 'that', 'you', 'will', 'find', 'my', 'idea', 'of', 'sport', 'more', 'diverting', 'than', 'ivan', 's', 'he', 'nodded', 'toward', 'the', 'corner', 'to', 'where', 'the', 'giant', 'stood', 'scowling', 'his', 'thick', 'arms', 'crossed', 'on', 'his', 'hogshead', 'of', 'chest', 'you', 'don', 't', 'mean', 'cried', 'rainsford', 'my', 'dear', 'fellow', 'said', 'the', 'general', 'have', 'i', 'not', 'told', 'you', 'i', 'always', 'mean', 'what', 'i', 'say', 'about', 'hunting', 'this', 'is', 'really', 'an', 'inspiration', 'i', 'drink', 'to', 'a', 'foeman', 'worthy', 'of', 'my', 'steel', 'at', 'last', 'the', 'general', 'raised', 'his', 'glass', 'but', 'rainsford', 'sat', 'staring', 'at', 'him', 'you', 'll', 'find', 'this', 'game', 'worth', 'playing', 'the', 'general', 'said', 'enthusiastically', 'your', 'brain', 'against', 'mine', 'your', 'woodcraft', 'against', 'mine', 'your', 'strength', 'and', 'stamina', 'against', 'mine', 'outdoor', 'chess', 'and', 'the', 'stake', 'is', 'not', 'without', 'value', 'eh', 'and', 'if', 'i', 'win', 'began', 'rainsford', 'huskily', 'i', 'll', 'cheerfully', 'acknowledge', 'myself', 'defeat', 'if', 'i', 'do', 'not', 'find', 'you', 'by', 'midnight', 'of', 'the', 'third', 'day', 'said', 'general', 'zaroff', 'my', 'sloop', 'will', 'place', 'you', 'on', 'the', 'mainland', 'near', 'a', 'town', 'the', 'general', 'read', 'what', 'rainsford', 'was', 'thinking', 'oh', 'you', 'can', 'trust', 'me', 'said', 'the', 'cossack', 'i', 'will', 'give', 'you', 'my', 'word', 'as', 'a', 'gentleman', 'and', 'a', 'sportsman', 'of', 'course', 'you', 'in', 'turn', 'must', 'agree', 'to', 'say', 'nothing', 'of', 'your', 'visit', 'here', 'i', 'll', 'agree', 'to', 'nothing', 'of', 'the', 'kind', 'said', 'rainsford', 'oh', 'said', 'the', 'general', 'in', 'that', 'case', 'but', 'why', 'discuss', 'that', 'now', 'three', 'days', 'hence', 'we', 'can', 'discuss', 'it', 'over', 'a', 'bottle', 'of', 'veuve', 'cliquot', 'unless', 'the', 'general', 'sipped', 'his', 'wine', 'then', 'a', 'businesslike', 'air', 'animated', 'him', 'ivan', 'he', 'said', 'to', 'rainsford', 'will', 'supply', 'you', 'with', 'hunting', 'clothes', 'food', 'a', 'knife', 'i', 'suggest', 'you', 'wear', 'moccasins', 'they', 'leave', 'a', 'poorer', 'trail', 'i', 'suggest', 'too', 'that', 'you', 'avoid', 'the', 'big', 'swamp', 'in', 'the', 'southeast', 'corner', 'of', 'the', 'island', 'we', 'call', 'it', 'death', 'swamp', 'there', 's', 'quicksand', 'there', 'one', 'foolish', 'fellow', 'tried', 'it', 'the', 'deplorable', 'part', 'of', 'it', 'was', 'that', 'lazarus', 'followed', 'him', 'you', 'can', 'imagine', 'my', 'feelings', 'mr', 'rainsford', 'i', 'loved', 'lazarus', 'he', 'was', 'the', 'finest', 'hound', 'in', 'my', 'pack', 'well', 'i', 'must', 'beg', 'you', 'to', 'excuse', 'me', 'now', 'i', 'always', 'take', 'a', 'siesta', 'after', 'lunch', 'you', 'll', 'hardly', 'have', 'time', 'for', 'a', 'nap', 'i', 'fear', 'you', 'll', 'want', 'to', 'start', 'no', 'doubt', 'i', 'shall', 'not', 'follow', 'till', 'dusk', 'hunting', 'at', 'night', 'is', 'so', 'much', 'more', 'exciting', 'than', 'by', 'day', 'don', 't', 'you', 'think', 'au', 'revoir', 'mr', 'rainsford', 'au', 'revoir', 'general', 'zaroff', 'with', 'a', 'deep', 'courtly', 'bow', 'strolled', 'from', 'the', 'room', 'from', 'another', 'door', 'came', 'ivan', 'under', 'one', 'arm', 'he', 'carried', 'khaki', 'hunting', 'clothes', 'a', 'haversack', 'of', 'food', 'a', 'leather', 'sheath', 'containing', 'a', 'long-bladed', 'hunting', 'knife', 'his', 'right', 'hand', 'rested', 'on', 'a', 'cocked', 'revolver', 'thrust', 'in', 'the', 'crimson', 'sash', 'about', 'his', 'waist', 'rainsford', 'had', 'fought', 'his', 'way', 'through', 'the', 'bush', 'for', 'two', 'hours', 'i', 'must', 'keep', 'my', 'nerve', 'i', 'must', 'keep', 'my', 'nerve', 'he', 'said', 'through', 'tight', 'teeth', 'he', 'had', 'not', 'been', 'entirely', 'clearheaded', 'when', 'the', 'chateau', 'gates', 'snapped', 'shut', 'behind', 'him', 'his', 'whole', 'idea', 'at', 'first', 'was', 'to', 'put', 'distance', 'between', 'himself', 'and', 'general', 'zaroff', 'and', 'to', 'this', 'end', 'he', 'had', 'plunged', 'along', 'spurred', 'on', 'by', 'the', 'sharp', 'rowers', 'of', 'something', 'very', 'like', 'panic', 'now', 'he', 'had', 'got', 'a', 'grip', 'on', 'himself', 'had', 'stopped', 'and', 'was', 'taking', 'stock', 'of', 'himself', 'and', 'the', 'situation', 'he', 'saw', 'that', 'straight', 'flight', 'was', 'futile', 'inevitably', 'it', 'would', 'bring', 'him', 'face', 'to', 'face', 'with', 'the', 'sea', 'he', 'was', 'in', 'a', 'picture', 'with', 'a', 'frame', 'of', 'water', 'and', 'his', 'operations', 'clearly', 'must', 'take', 'place', 'within', 'that', 'frame', 'i', 'll', 'give', 'him', 'a', 'trail', 'to', 'follow', 'muttered', 'rainsford', 'and', 'he', 'struck', 'off', 'from', 'the', 'rude', 'path', 'he', 'had', 'been', 'following', 'into', 'the', 'trackless', 'wilderness', 'he', 'executed', 'a', 'series', 'of', 'intricate', 'loops', 'he', 'doubled', 'on', 'his', 'trail', 'again', 'and', 'again', 'recalling', 'all', 'the', 'lore', 'of', 'the', 'fox', 'hunt', 'and', 'all', 'the', 'dodges', 'of', 'the', 'fox', 'night', 'found', 'him', 'leg-weary', 'with', 'hands', 'and', 'face', 'lashed', 'by', 'the', 'branches', 'on', 'a', 'thickly', 'wooded', 'ridge', 'he', 'knew', 'it', 'would', 'be', 'insane', 'to', 'blunder', 'on', 'through', 'the', 'dark', 'even', 'if', 'he', 'had', 'the', 'strength', 'his', 'need', 'for', 'rest', 'was', 'imperative', 'and', 'he', 'thought', 'i', 'have', 'played', 'the', 'fox', 'now', 'i', 'must', 'play', 'the', 'cat', 'of', 'the', 'fable', 'a', 'big', 'tree', 'with', 'a', 'thick', 'trunk', 'and', 'outspread', 'branches', 'was', 'near', 'by', 'and', 'taking', 'care', 'to', 'leave', 'not', 'the', 'slightest', 'mark', 'he', 'climbed', 'up', 'into', 'the', 'crotch', 'and', 'stretching', 'out', 'on', 'one', 'of', 'the', 'broad', 'limbs', 'after', 'a', 'fashion', 'rested', 'rest', 'brought', 'him', 'new', 'confidence', 'and', 'almost', 'a', 'feeling', 'of', 'security', 'even', 'so', 'zealous', 'a', 'hunter', 'as', 'general', 'zaroff', 'could', 'not', 'trace', 'him', 'there', 'he', 'told', 'himself', 'only', 'the', 'devil', 'himself', 'could', 'follow', 'that', 'complicated', 'trail', 'through', 'the', 'jungle', 'after', 'dark', 'but', 'perhaps', 'the', 'general', 'was', 'a', 'devil', 'an', 'apprehensive', 'night', 'crawled', 'slowly', 'by', 'like', 'a', 'wounded', 'snake', 'and', 'sleep', 'did', 'not', 'visit', 'rainsford', 'although', 'the', 'silence', 'of', 'a', 'dead', 'world', 'was', 'on', 'the', 'jungle', 'toward', 'morning', 'when', 'a', 'dingy', 'gray', 'was', 'varnishing', 'the', 'sky', 'the', 'cry', 'of', 'some', 'startled', 'bird', 'focused', 'rainsford', 's', 'attention', 'in', 'that', 'direction', 'something', 'was', 'coming', 'through', 'the', 'bush', 'coming', 'slowly', 'carefully', 'coming', 'by', 'the', 'same', 'winding', 'way', 'rainsford', 'had', 'come', 'he', 'flattened', 'himself', 'down', 'on', 'the', 'limb', 'and', 'through', 'a', 'screen', 'of', 'leaves', 'almost', 'as', 'thick', 'as', 'tapestry', 'he', 'watched', 'that', 'which', 'was', 'approaching', 'was', 'a', 'man', 'it', 'was', 'general', 'zaroff', 'he', 'made', 'his', 'way', 'along', 'with', 'his', 'eyes', 'fixed', 'in', 'utmost', 'concentration', 'on', 'the', 'ground', 'before', 'him', 'he', 'paused', 'almost', 'beneath', 'the', 'tree', 'dropped', 'to', 'his', 'knees', 'and', 'studied', 'the', 'ground', 'rainsford', 's', 'impulse', 'was', 'to', 'hurl', 'himself', 'down', 'like', 'a', 'panther', 'but', 'he', 'saw', 'that', 'the', 'general', 's', 'right', 'hand', 'held', 'something', 'metallic', 'a', 'small', 'automatic', 'pistol', 'the', 'hunter', 'shook', 'his', 'head', 'several', 'times', 'as', 'if', 'he', 'were', 'puzzled', 'then', 'he', 'straightened', 'up', 'and', 'took', 'from', 'his', 'case', 'one', 'of', 'his', 'black', 'cigarettes', 'its', 'pungent', 'incenselike', 'smoke', 'floated', 'up', 'to', 'rainsford', 's', 'nostrils', 'rainsford', 'held', 'his', 'breath', 'the', 'general', 's', 'eyes', 'had', 'left', 'the', 'ground', 'and', 'were', 'traveling', 'inch', 'by', 'inch', 'up', 'the', 'tree', 'rainsford', 'froze', 'there', 'every', 'muscle', 'tensed', 'for', 'a', 'spring', 'but', 'the', 'sharp', 'eyes', 'of', 'the', 'hunter', 'stopped', 'before', 'they', 'reached', 'the', 'limb', 'where', 'rainsford', 'lay', 'a', 'smile', 'spread', 'over', 'his', 'brown', 'face', 'very', 'deliberately', 'he', 'blew', 'a', 'smoke', 'ring', 'into', 'the', 'air', 'then', 'he', 'turned', 'his', 'back', 'on', 'the', 'tree', 'and', 'walked', 'carelessly', 'away', 'back', 'along', 'the', 'trail', 'he', 'had', 'come', 'the', 'swish', 'of', 'the', 'underbrush', 'against', 'his', 'hunting', 'boots', 'grew', 'fainter', 'and', 'fainter', 'the', 'pent-up', 'air', 'burst', 'hotly', 'from', 'rainsford', 's', 'lungs', 'his', 'first', 'thought', 'made', 'him', 'feel', 'sick', 'and', 'numb', 'the', 'general', 'could', 'follow', 'a', 'trail', 'through', 'the', 'woods', 'at', 'night', 'he', 'could', 'follow', 'an', 'extremely', 'difficult', 'trail', 'he', 'must', 'have', 'uncanny', 'powers', 'only', 'by', 'the', 'merest', 'chance', 'had', 'the', 'cossack', 'failed', 'to', 'see', 'his', 'quarry', 'rainsford', 's', 'second', 'thought', 'was', 'even', 'more', 'terrible', 'it', 'sent', 'a', 'shudder', 'of', 'cold', 'horror', 'through', 'his', 'whole', 'being', 'why', 'had', 'the', 'general', 'smiled', 'why', 'had', 'he', 'turned', 'back', 'rainsford', 'did', 'not', 'want', 'to', 'believe', 'what', 'his', 'reason', 'told', 'him', 'was', 'true', 'but', 'the', 'truth', 'was', 'as', 'evident', 'as', 'the', 'sun', 'that', 'had', 'by', 'now', 'pushed', 'through', 'the', 'morning', 'mists', 'the', 'general', 'was', 'playing', 'with', 'him', 'the', 'general', 'was', 'saving', 'him', 'for', 'another', 'day', 's', 'sport', 'the', 'cossack', 'was', 'the', 'cat', 'he', 'was', 'the', 'mouse', 'then', 'it', 'was', 'that', 'rainsford', 'knew', 'the', 'full', 'meaning', 'of', 'terror', 'i', 'will', 'not', 'lose', 'my', 'nerve', 'i', 'will', 'not', 'he', 'slid', 'down', 'from', 'the', 'tree', 'and', 'struck', 'off', 'again', 'into', 'the', 'woods', 'his', 'face', 'was', 'set', 'and', 'he', 'forced', 'the', 'machinery', 'of', 'his', 'mind', 'to', 'function', 'three', 'hundred', 'yards', 'from', 'his', 'hiding', 'place', 'he', 'stopped', 'where', 'a', 'huge', 'dead', 'tree', 'leaned', 'precariously', 'on', 'a', 'smaller', 'living', 'one', 'throwing', 'off', 'his', 'sack', 'of', 'food', 'rainsford', 'took', 'his', 'knife', 'from', 'its', 'sheath', 'and', 'began', 'to', 'work', 'with', 'all', 'his', 'energy', 'the', 'job', 'was', 'finished', 'at', 'last', 'and', 'he', 'threw', 'himself', 'down', 'behind', 'a', 'fallen', 'log', 'a', 'hundred', 'feet', 'away', 'he', 'did', 'not', 'have', 'to', 'wait', 'long', 'the', 'cat', 'was', 'coming', 'again', 'to', 'play', 'with', 'the', 'mouse', 'following', 'the', 'trail', 'with', 'the', 'sureness', 'of', 'a', 'bloodhound', 'came', 'general', 'zaroff', 'nothing', 'escaped', 'those', 'searching', 'black', 'eyes', 'no', 'crushed', 'blade', 'of', 'grass', 'no', 'bent', 'twig', 'no', 'mark', 'no', 'matter', 'how', 'faint', 'in', 'the', 'moss', 'so', 'intent', 'was', 'the', 'cossack', 'on', 'his', 'stalking', 'that', 'he', 'was', 'upon', 'the', 'thing', 'rainsford', 'had', 'made', 'before', 'he', 'saw', 'it', 'his', 'foot', 'touched', 'the', 'protruding', 'bough', 'that', 'was', 'the', 'trigger', 'even', 'as', 'he', 'touched', 'it', 'the', 'general', 'sensed', 'his', 'danger', 'and', 'leaped', 'back', 'with', 'the', 'agility', 'of', 'an', 'ape', 'but', 'he', 'was', 'not', 'quite', 'quick', 'enough', 'the', 'dead', 'tree', 'delicately', 'adjusted', 'to', 'rest', 'on', 'the', 'cut', 'living', 'one', 'crashed', 'down', 'and', 'struck', 'the', 'general', 'a', 'glancing', 'blow', 'on', 'the', 'shoulder', 'as', 'it', 'fell', 'but', 'for', 'his', 'alertness', 'he', 'must', 'have', 'been', 'smashed', 'beneath', 'it', 'he', 'staggered', 'but', 'he', 'did', 'not', 'fall', 'nor', 'did', 'he', 'drop', 'his', 'revolver', 'he', 'stood', 'there', 'rubbing', 'his', 'injured', 'shoulder', 'and', 'rainsford', 'with', 'fear', 'again', 'gripping', 'his', 'heart', 'heard', 'the', 'general', 's', 'mocking', 'laugh', 'ring', 'through', 'the', 'jungle', 'rainsford', 'called', 'the', 'general', 'if', 'you', 'are', 'within', 'sound', 'of', 'my', 'voice', 'as', 'i', 'suppose', 'you', 'are', 'let', 'me', 'congratulate', 'you', 'not', 'many', 'men', 'know', 'how', 'to', 'make', 'a', 'malay', 'mancatcher', 'luckily', 'for', 'me', 'i', 'too', 'have', 'hunted', 'in', 'malacca', 'you', 'are', 'proving', 'interesting', 'mr', 'rainsford', 'i', 'am', 'going', 'now', 'to', 'have', 'my', 'wound', 'dressed', 'it', 's', 'only', 'a', 'slight', 'one', 'but', 'i', 'shall', 'be', 'back', 'i', 'shall', 'be', 'back', 'when', 'the', 'general', 'nursing', 'his', 'bruised', 'shoulder', 'had', 'gone', 'rainsford', 'took', 'up', 'his', 'flight', 'again', 'it', 'was', 'flight', 'now', 'a', 'desperate', 'hopeless', 'flight', 'that', 'carried', 'him', 'on', 'for', 'some', 'hours', 'dusk', 'came', 'then', 'darkness', 'and', 'still', 'he', 'pressed', 'on', 'the', 'ground', 'grew', 'softer', 'under', 'his', 'moccasins', 'the', 'vegetation', 'grew', 'ranker', 'denser', 'insects', 'bit', 'him', 'savagely', 'then', 'as', 'he', 'stepped', 'forward', 'his', 'foot', 'sank', 'into', 'the', 'ooze', 'he', 'tried', 'to', 'wrench', 'it', 'back', 'but', 'the', 'muck', 'sucked', 'viciously', 'at', 'his', 'foot', 'as', 'if', 'it', 'were', 'a', 'giant', 'leech', 'with', 'a', 'violent', 'effort', 'he', 'tore', 'his', 'feet', 'loose', 'he', 'knew', 'where', 'he', 'was', 'now', 'death', 'swamp', 'and', 'its', 'quicksand', 'his', 'hands', 'were', 'tight', 'closed', 'as', 'if', 'his', 'nerve', 'were', 'something', 'tangible', 'that', 'someone', 'in', 'the', 'darkness', 'was', 'trying', 'to', 'tear', 'from', 'his', 'grip', 'the', 'softness', 'of', 'the', 'earth', 'had', 'given', 'him', 'an', 'idea', 'he', 'stepped', 'back', 'from', 'the', 'quicksand', 'a', 'dozen', 'feet', 'or', 'so', 'and', 'like', 'some', 'huge', 'prehistoric', 'beaver', 'he', 'began', 'to', 'dig', 'rainsford', 'had', 'dug', 'himself', 'in', 'in', 'france', 'when', 'a', 'second', 's', 'delay', 'meant', 'death', 'that', 'had', 'been', 'a', 'placid', 'pastime', 'compared', 'to', 'his', 'digging', 'now', 'the', 'pit', 'grew', 'deeper', 'when', 'it', 'was', 'above', 'his', 'shoulders', 'he', 'climbed', 'out', 'and', 'from', 'some', 'hard', 'saplings', 'cut', 'stakes', 'and', 'sharpened', 'them', 'to', 'a', 'fine', 'point', 'these', 'stakes', 'he', 'planted', 'in', 'the', 'bottom', 'of', 'the', 'pit', 'with', 'the', 'points', 'sticking', 'up', 'with', 'flying', 'fingers', 'he', 'wove', 'a', 'rough', 'carpet', 'of', 'weeds', 'and', 'branches', 'and', 'with', 'it', 'he', 'covered', 'the', 'mouth', 'of', 'the', 'pit', 'then', 'wet', 'with', 'sweat', 'and', 'aching', 'with', 'tiredness', 'he', 'crouched', 'behind', 'the', 'stump', 'of', 'a', 'lightning-charred', 'tree', 'he', 'knew', 'his', 'pursuer', 'was', 'coming', 'he', 'heard', 'the', 'padding', 'sound', 'of', 'feet', 'on', 'the', 'soft', 'earth', 'and', 'the', 'night', 'breeze', 'brought', 'him', 'the', 'perfume', 'of', 'the', 'general', 's', 'cigarette', 'it', 'seemed', 'to', 'rainsford', 'that', 'the', 'general', 'was', 'coming', 'with', 'unusual', 'swiftness', 'he', 'was', 'not', 'feeling', 'his', 'way', 'along', 'foot', 'by', 'foot', 'rainsford', 'crouching', 'there', 'could', 'not', 'see', 'the', 'general', 'nor', 'could', 'he', 'see', 'the', 'pit', 'he', 'lived', 'a', 'year', 'in', 'a', 'minute', 'then', 'he', 'felt', 'an', 'impulse', 'to', 'cry', 'aloud', 'with', 'joy', 'for', 'he', 'heard', 'the', 'sharp', 'crackle', 'of', 'the', 'breaking', 'branches', 'as', 'the', 'cover', 'of', 'the', 'pit', 'gave', 'way', 'he', 'heard', 'the', 'sharp', 'scream', 'of', 'pain', 'as', 'the', 'pointed', 'stakes', 'found', 'their', 'mark', 'he', 'leaped', 'up', 'from', 'his', 'place', 'of', 'concealment', 'then', 'he', 'cowered', 'back', 'three', 'feet', 'from', 'the', 'pit', 'a', 'man', 'was', 'standing', 'with', 'an', 'electric', 'torch', 'in', 'his', 'hand', 'you', 've', 'done', 'well', 'rainsford', 'the', 'voice', 'of', 'the', 'general', 'called', 'your', 'burmese', 'tiger', 'pit', 'has', 'claimed', 'one', 'of', 'my', 'best', 'dogs', 'again', 'you', 'score', 'i', 'think', 'mr', 'rainsford', 'ill', 'see', 'what', 'you', 'can', 'do', 'against', 'my', 'whole', 'pack', 'i', 'm', 'going', 'home', 'for', 'a', 'rest', 'now', 'thank', 'you', 'for', 'a', 'most', 'amusing', 'evening', 'at', 'daybreak', 'rainsford', 'lying', 'near', 'the', 'swamp', 'was', 'awakened', 'by', 'a', 'sound', 'that', 'made', 'him', 'know', 'that', 'he', 'had', 'new', 'things', 'to', 'learn', 'about', 'fear', 'it', 'was', 'a', 'distant', 'sound', 'faint', 'and', 'wavering', 'but', 'he', 'knew', 'it', 'it', 'was', 'the', 'baying', 'of', 'a', 'pack', 'of', 'hounds', 'rainsford', 'knew', 'he', 'could', 'do', 'one', 'of', 'two', 'things', 'he', 'could', 'stay', 'where', 'he', 'was', 'and', 'wait', 'that', 'was', 'suicide', 'he', 'could', 'flee', 'that', 'was', 'postponing', 'the', 'inevitable', 'for', 'a', 'moment', 'he', 'stood', 'there', 'thinking', 'an', 'idea', 'that', 'held', 'a', 'wild', 'chance', 'came', 'to', 'him', 'and', 'tightening', 'his', 'belt', 'he', 'headed', 'away', 'from', 'the', 'swamp', 'the', 'baying', 'of', 'the', 'hounds', 'drew', 'nearer', 'then', 'still', 'nearer', 'nearer', 'ever', 'nearer', 'on', 'a', 'ridge', 'rainsford', 'climbed', 'a', 'tree', 'down', 'a', 'watercourse', 'not', 'a', 'quarter', 'of', 'a', 'mile', 'away', 'he', 'could', 'see', 'the', 'bush', 'moving', 'straining', 'his', 'eyes', 'he', 'saw', 'the', 'lean', 'figure', 'of', 'general', 'zaroff', 'just', 'ahead', 'of', 'him', 'rainsford', 'made', 'out', 'another', 'figure', 'whose', 'wide', 'shoulders', 'surged', 'through', 'the', 'tall', 'jungle', 'weeds', 'it', 'was', 'the', 'giant', 'ivan', 'and', 'he', 'seemed', 'pulled', 'forward', 'by', 'some', 'unseen', 'force', 'rainsford', 'knew', 'that', 'ivan', 'must', 'be', 'holding', 'the', 'pack', 'in', 'leash', 'they', 'would', 'be', 'on', 'him', 'any', 'minute', 'now', 'his', 'mind', 'worked', 'frantically', 'he', 'thought', 'of', 'a', 'native', 'trick', 'he', 'had', 'learned', 'in', 'uganda', 'he', 'slid', 'down', 'the', 'tree', 'he', 'caught', 'hold', 'of', 'a', 'springy', 'young', 'sapling', 'and', 'to', 'it', 'he', 'fastened', 'his', 'hunting', 'knife', 'with', 'the', 'blade', 'pointing', 'down', 'the', 'trail', 'with', 'a', 'bit', 'of', 'wild', 'grapevine', 'he', 'tied', 'back', 'the', 'sapling', 'then', 'he', 'ran', 'for', 'his', 'life', 'the', 'hounds', 'raised', 'their', 'voices', 'as', 'they', 'hit', 'the', 'fresh', 'scent', 'rainsford', 'knew', 'now', 'how', 'an', 'animal', 'at', 'bay', 'feels', 'he', 'had', 'to', 'stop', 'to', 'get', 'his', 'breath', 'the', 'baying', 'of', 'the', 'hounds', 'stopped', 'abruptly', 'and', 'rainsford', 's', 'heart', 'stopped', 'too', 'they', 'must', 'have', 'reached', 'the', 'knife', 'he', 'shinned', 'excitedly', 'up', 'a', 'tree', 'and', 'looked', 'back', 'his', 'pursuers', 'had', 'stopped', 'but', 'the', 'hope', 'that', 'was', 'in', 'rainsford', 's', 'brain', 'when', 'he', 'climbed', 'died', 'for', 'he', 'saw', 'in', 'the', 'shallow', 'valley', 'that', 'general', 'zaroff', 'was', 'still', 'on', 'his', 'feet', 'but', 'ivan', 'was', 'not', 'the', 'knife', 'driven', 'by', 'the', 'recoil', 'of', 'the', 'springing', 'tree', 'had', 'not', 'wholly', 'failed', 'rainsford', 'had', 'hardly', 'tumbled', 'to', 'the', 'ground', 'when', 'the', 'pack', 'took', 'up', 'the', 'cry', 'again', 'nerve', 'nerve', 'nerve', 'he', 'panted', 'as', 'he', 'dashed', 'along', 'a', 'blue', 'gap', 'showed', 'between', 'the', 'trees', 'dead', 'ahead', 'ever', 'nearer', 'drew', 'the', 'hounds', 'rainsford', 'forced', 'himself', 'on', 'toward', 'that', 'gap', 'he', 'reached', 'it', 'it', 'was', 'the', 'shore', 'of', 'the', 'sea', 'across', 'a', 'cove', 'he', 'could', 'see', 'the', 'gloomy', 'gray', 'stone', 'of', 'the', 'chateau', 'twenty', 'feet', 'below', 'him', 'the', 'sea', 'rumbled', 'and', 'hissed', 'rainsford', 'hesitated', 'he', 'heard', 'the', 'hounds', 'then', 'he', 'leaped', 'far', 'out', 'into', 'the', 'sea', 'when', 'the', 'general', 'and', 'his', 'pack', 'reached', 'the', 'place', 'by', 'the', 'sea', 'the', 'cossack', 'stopped', 'for', 'some', 'minutes', 'he', 'stood', 'regarding', 'the', 'blue-green', 'expanse', 'of', 'water', 'he', 'shrugged', 'his', 'shoulders', 'then', 'he', 'sat', 'down', 'took', 'a', 'drink', 'of', 'brandy', 'from', 'a', 'silver', 'flask', 'lit', 'a', 'cigarette', 'and', 'hummed', 'a', 'bit', 'from', 'madame', 'butterfly', 'general', 'zaroff', 'had', 'an', 'exceedingly', 'good', 'dinner', 'in', 'his', 'great', 'paneled', 'dining', 'hall', 'that', 'evening', 'with', 'it', 'he', 'had', 'a', 'bottle', 'of', 'pol', 'roger', 'and', 'half', 'a', 'bottle', 'of', 'chambertin', 'two', 'slight', 'annoyances', 'kept', 'him', 'from', 'perfect', 'enjoyment', 'one', 'was', 'the', 'thought', 'that', 'it', 'would', 'be', 'difficult', 'to', 'replace', 'ivan', 'the', 'other', 'was', 'that', 'his', 'quarry', 'had', 'escaped', 'him', 'of', 'course', 'the', 'american', 'hadn', 't', 'played', 'the', 'game', 'so', 'thought', 'the', 'general', 'as', 'he', 'tasted', 'his', 'after-dinner', 'liqueur', 'in', 'his', 'library', 'he', 'read', 'to', 'soothe', 'himself', 'from', 'the', 'works', 'of', 'marcus', 'aurelius', 'at', 'ten', 'he', 'went', 'up', 'to', 'his', 'bedroom', 'he', 'was', 'deliciously', 'tired', 'he', 'said', 'to', 'himself', 'as', 'he', 'locked', 'himself', 'in', 'there', 'was', 'a', 'little', 'moonlight', 'so', 'before', 'turning', 'on', 'his', 'light', 'he', 'went', 'to', 'the', 'window', 'and', 'looked', 'down', 'at', 'the', 'courtyard', 'he', 'could', 'see', 'the', 'great', 'hounds', 'and', 'he', 'called', 'better', 'luck', 'another', 'time', 'to', 'them', 'then', 'he', 'switched', 'on', 'the', 'light', 'a', 'man', 'who', 'had', 'been', 'hiding', 'in', 'the', 'curtains', 'of', 'the', 'bed', 'was', 'standing', 'there', 'rainsford', 'screamed', 'the', 'general', 'how', 'in', 'god', 's', 'name', 'did', 'you', 'get', 'here', 'swam', 'said', 'rainsford', 'i', 'found', 'it', 'quicker', 'than', 'walking', 'through', 'the', 'jungle', 'the', 'general', 'sucked', 'in', 'his', 'breath', 'and', 'smiled', 'i', 'congratulate', 'you', 'he', 'said', 'you', 'have', 'won', 'the', 'game', 'rainsford', 'did', 'not', 'smile', 'i', 'am', 'still', 'a', 'beast', 'at', 'bay', 'he', 'said', 'in', 'a', 'low', 'hoarse', 'voice', 'get', 'ready', 'general', 'zaroff', 'the', 'general', 'made', 'one', 'of', 'his', 'deepest', 'bows', 'i', 'see', 'he', 'said', 'splendid', 'one', 'of', 'us', 'is', 'to', 'furnish', 'a', 'repast', 'for', 'the', 'hounds', 'the', 'other', 'will', 'sleep', 'in', 'this', 'very', 'excellent', 'bed', 'on', 'guard', 'rainsford', 'he', 'had', 'never', 'slept', 'in', 'a', 'better', 'bed', 'rainsford', 'decided']\n"
     ]
    }
   ],
   "source": [
    "# Proof of readability:\n",
    "\n",
    "print(mdg_words)"
   ]
  },
  {
   "cell_type": "code",
   "execution_count": null,
   "metadata": {
    "collapsed": true
   },
   "outputs": [],
   "source": [
    "# =-=-=-=-=-=-=-=-=-=-=\n",
    "# Create dictionary of word:frequency pairs\n",
    "# =-=-=-=-=-=-=-=-=-=-= \n",
    "\n",
    "# empty dictionary\n",
    "freq_dic = {}\n",
    "\n",
    "# Remove punctuation marks:\n",
    "punctuation = re.compile(r'[.?!,\":;]') \n",
    "\n",
    "# Build the dictionary:\n",
    "for word in word_list:\n",
    "    # remove punctuation marks\n",
    "    word = punctuation.sub(\"\", word)\n",
    "    # form dictionary\n",
    "    try: \n",
    "        freq_dic[word] += 1\n",
    "    except: \n",
    "        freq_dic[word] = 1\n",
    "    \n",
    "print('Unique words: {}.'.format(len(freq_dic)))"
   ]
  },
  {
   "cell_type": "code",
   "execution_count": null,
   "metadata": {
    "collapsed": true
   },
   "outputs": [],
   "source": [
    "# =-=-=-=-=-=-=-=-=-=-=\n",
    "# Let's see those words\n",
    "# =-=-=-=-=-=-=-=-=-=-= \n",
    "\n",
    "# create list of (val, key) tuple pairs\n",
    "freq_list2 = [(val, key) for key, val in freq_dic.items()]\n",
    "\n",
    "# sort by value or frequency\n",
    "freq_list2.sort(reverse=True)\n",
    "\n",
    "# display result\n",
    "print(\"Sorted by highest frequency first:\")\n",
    "for freq, word in freq_list2:\n",
    "    print(word + \",\" + str(freq))"
   ]
  },
  {
   "cell_type": "code",
   "execution_count": null,
   "metadata": {
    "collapsed": true
   },
   "outputs": [],
   "source": [
    "# =-=-=-=-=-=-=-=-=-=-=\n",
    "# Save these results to a CSV file (makes it easier for the Excel-impaired)\n",
    "# =-=-=-=-=-=-=-=-=-=-= \n",
    "\n",
    "with open(\"mdg_word_freq.csv\", \"w\") as fileOut:\n",
    "    for x,y in freq_list2:\n",
    "        print(\"{},{}\".format(y,x), file=fileOut)"
   ]
  },
  {
   "cell_type": "code",
   "execution_count": null,
   "metadata": {
    "collapsed": true
   },
   "outputs": [],
   "source": [
    "# =-=-=-=-=-=-=-=-=-=-=\n",
    "# Let's take a look at this from within Python\n",
    "# =-=-=-=-=-=-=-=-=-=-= \n",
    "\n",
    "import numpy as np, pandas as pd, matplotlib as mpl\n",
    "\n",
    "df = pd.read_csv(\"mdg_word_freq.csv\", \",\", names = [\"Word\", \"Frequency\"])\n",
    "print(df)"
   ]
  },
  {
   "cell_type": "code",
   "execution_count": null,
   "metadata": {
    "collapsed": true
   },
   "outputs": [],
   "source": [
    "alphabetical = df.sort(columns='Word', ascending=True) \n",
    "print(alphabetical[0:20])"
   ]
  },
  {
   "cell_type": "code",
   "execution_count": null,
   "metadata": {
    "collapsed": true
   },
   "outputs": [],
   "source": [
    "mpl.style.use('ggplot')\n",
    "ax = df[['Word','Frequency']].plot(kind='bar', \n",
    "                                   title =\"Frequency of Words in MDG\",\n",
    "                                   figsize=(20,10),\n",
    "                                   legend=True)\n",
    "ax.set_xlabel(\"Word\")\n",
    "ax.set_ylabel(\"Occurrences\")\n",
    "ax.set_xticklabels(list(df['Word'])) \n",
    "mpl.pyplot.show()"
   ]
  },
  {
   "cell_type": "code",
   "execution_count": 1,
   "metadata": {},
   "outputs": [
    {
     "ename": "NameError",
     "evalue": "name 'mdg' is not defined",
     "output_type": "error",
     "traceback": [
      "\u001b[0;31m---------------------------------------------------------------------------\u001b[0m",
      "\u001b[0;31mNameError\u001b[0m                                 Traceback (most recent call last)",
      "\u001b[0;32m<ipython-input-1-8f7612b678a8>\u001b[0m in \u001b[0;36m<module>\u001b[0;34m()\u001b[0m\n\u001b[1;32m      1\u001b[0m \u001b[0;32mimport\u001b[0m \u001b[0mnltk\u001b[0m\u001b[0;34m\u001b[0m\u001b[0m\n\u001b[0;32m----> 2\u001b[0;31m \u001b[0mmyword\u001b[0m \u001b[0;34m=\u001b[0m \u001b[0mmdg\u001b[0m\u001b[0;34m.\u001b[0m\u001b[0mconcordance\u001b[0m\u001b[0;34m(\u001b[0m\u001b[0;34m\"dangerous\"\u001b[0m\u001b[0;34m)\u001b[0m\u001b[0;34m\u001b[0m\u001b[0m\n\u001b[0m\u001b[1;32m      3\u001b[0m \u001b[0mprint\u001b[0m\u001b[0;34m(\u001b[0m\u001b[0mmyword\u001b[0m\u001b[0;34m)\u001b[0m\u001b[0;34m\u001b[0m\u001b[0m\n",
      "\u001b[0;31mNameError\u001b[0m: name 'mdg' is not defined"
     ]
    }
   ],
   "source": [
    "import nltk\n",
    "myword = mdg.concordance(\"dangerous\")\n",
    "print(myword)"
   ]
  },
  {
   "cell_type": "code",
   "execution_count": null,
   "metadata": {
    "collapsed": true
   },
   "outputs": [],
   "source": [
    "text.similar(\"love\")\n",
    "text.common_contexts([\"husband\", \"wife\"])\n",
    "text.collocations()"
   ]
  },
  {
   "cell_type": "code",
   "execution_count": null,
   "metadata": {
    "collapsed": true
   },
   "outputs": [],
   "source": [
    "import nltk\n",
    "mdgtokens = nltk.word_tokenize(mdg)\n",
    "len(mdgtokens)\n",
    "\n",
    "import nltk, re\n",
    "\n",
    "mdg_raw = open(\"./mdg.txt\").read()\n",
    "mdg_words = re.sub(\"[^a-zA-Z'-]\",\" \", mdg_raw)\n",
    "mdg_case = mdg_words.lower()\n",
    "\n",
    "# print(mdg_case)\n",
    "\n",
    "\n",
    "\n",
    "import re\n",
    "\n",
    "\n",
    "mdg_word_list = mdg_words.split()\n",
    "print(mdg_word_list)\n",
    "\n",
    "sorted(set(mdg_word_list))\n",
    "\n",
    "len(sorted(set(mdg_word_list)))\n",
    "\n",
    "# Lexical Diversity of MDG:\n",
    "len(mdg2_word_list) / len(set(mdg2_word_list))"
   ]
  },
  {
   "cell_type": "code",
   "execution_count": null,
   "metadata": {
    "collapsed": true
   },
   "outputs": [],
   "source": [
    "len(mdg_tokens) / len(set(mdg_tokens))"
   ]
  },
  {
   "cell_type": "markdown",
   "metadata": {},
   "source": [
    "On average, a word occurs four times in \"The Most Dangerous Game.\"\n",
    "\n",
    "Out of curiosity, how many words occur four times?"
   ]
  },
  {
   "cell_type": "code",
   "execution_count": null,
   "metadata": {
    "collapsed": true
   },
   "outputs": [],
   "source": [
    "wordfrequency = nltk.FreqDist(mdg_tokens)\n",
    "four_times = [word for word in wordfrequency.keys() if wordfrequency[word] == 4]\n",
    "print(four_times)"
   ]
  },
  {
   "cell_type": "code",
   "execution_count": null,
   "metadata": {
    "collapsed": true
   },
   "outputs": [],
   "source": [
    "mdg_text.count(\"dangerous\")"
   ]
  },
  {
   "cell_type": "code",
   "execution_count": null,
   "metadata": {
    "collapsed": true
   },
   "outputs": [],
   "source": [
    "mdg_text.concordance(\"dangerous\")"
   ]
  },
  {
   "cell_type": "markdown",
   "metadata": {},
   "source": [
    "Where does \"dangerous\" occur within the larger text?"
   ]
  },
  {
   "cell_type": "code",
   "execution_count": null,
   "metadata": {
    "collapsed": true
   },
   "outputs": [],
   "source": [
    "mdg_text.dispersion_plot([\"dangerous\", \"danger\", \"game\", \"fear\"])"
   ]
  },
  {
   "cell_type": "code",
   "execution_count": null,
   "metadata": {
    "collapsed": true
   },
   "outputs": [],
   "source": [
    "wordfrequency.plot()"
   ]
  },
  {
   "cell_type": "code",
   "execution_count": null,
   "metadata": {
    "collapsed": true
   },
   "outputs": [],
   "source": []
  },
  {
   "cell_type": "code",
   "execution_count": null,
   "metadata": {
    "collapsed": true
   },
   "outputs": [],
   "source": []
  }
 ],
 "metadata": {
  "kernelspec": {
   "display_name": "Python 3",
   "language": "python",
   "name": "python3"
  },
  "language_info": {
   "codemirror_mode": {
    "name": "ipython",
    "version": 3
   },
   "file_extension": ".py",
   "mimetype": "text/x-python",
   "name": "python",
   "nbconvert_exporter": "python",
   "pygments_lexer": "ipython3",
   "version": "3.4.7"
  }
 },
 "nbformat": 4,
 "nbformat_minor": 2
}
