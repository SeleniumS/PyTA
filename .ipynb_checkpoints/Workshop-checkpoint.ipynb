{
 "cells": [
  {
   "cell_type": "markdown",
   "metadata": {
    "slideshow": {
     "slide_type": "skip"
    }
   },
   "source": [
    "## Creating a Slideshow\n",
    "\n",
    "Creating a slideshow is as easy as:\n",
    "\n",
    "    ipython nbconvert your_slides.ipynb --to slides\n",
    "\n",
    "If you want to immediately serve the slides to your web browser, just add `--post serve` at the command-line:\n",
    "\n",
    "    ipython nbconvert your_slides.ipynb --to slides --post serve"
   ]
  },
  {
   "cell_type": "code",
   "execution_count": 25,
   "metadata": {
    "collapsed": false,
    "slideshow": {
     "slide_type": "slide"
    }
   },
   "outputs": [],
   "source": [
    "# Some initial magic\n",
    "import pylab\n",
    "%matplotlib inline\n",
    "pylab.rcParams['figure.figsize'] = (12, 6)\n",
    "# from IPython.core.display import HTML\n",
    "# HTML(\"<style>.container { width:100% !important; }</style>\")"
   ]
  },
  {
   "cell_type": "markdown",
   "metadata": {
    "slideshow": {
     "slide_type": "slide"
    }
   },
   "source": [
    "# Text Mining from the Command Line\n",
    "\n",
    "John Laudun  \n",
    "Department of English  \n",
    "University of Louisiana at Lafayette  \n",
    "johnlaudun@gmail.com  \n",
    "http://johnlaudun.org/  \n",
    "@johnlaudun  \n",
    "\n"
   ]
  },
  {
   "cell_type": "markdown",
   "metadata": {
    "slideshow": {
     "slide_type": "slide"
    }
   },
   "source": [
    "## Agenda\n",
    "\n",
    "1. Getting data/texts\n",
    "2. Munging\n",
    "3. Examining\n",
    "4. Mining"
   ]
  },
  {
   "cell_type": "markdown",
   "metadata": {
    "slideshow": {
     "slide_type": "slide"
    }
   },
   "source": [
    "## Getting Data"
   ]
  },
  {
   "cell_type": "markdown",
   "metadata": {
    "slideshow": {
     "slide_type": "subslide"
    }
   },
   "source": [
    "### `wget`\n",
    "\n",
    "Sometimes CLI tools, like `wget`, are more powerful than GUI tools. The key difference is that GUI tools are easier to use at first, but repetitive tasks are difficult or expensive (in terms of time). CLI tools are a little more difficult at first, but once you have an established collection of them, they are not only easier to use but just plain easier. \n",
    "\n",
    "**`wget`** is one of those tools. E.g.:\n",
    "\n",
    "    % wget -r -l 1 -w 2 --limit-rate=20k https://www.cs.cmu.edu/~spok/grimmtmp/"
   ]
  },
  {
   "cell_type": "markdown",
   "metadata": {
    "slideshow": {
     "slide_type": "subslide"
    }
   },
   "source": [
    "`wget` is a CLI program that retrieves web content. To my mind, since it can act like a targeted web crawler, it is the single greatest tool available to those looking to gather data/texts. \n",
    "\n",
    "Let's look at what it looks like:\n",
    "\n",
    "    % wget -r -l 1 -w 2 --limit-rate=20k https://www.cs.cmu.edu/~spok/grimmtmp/\n",
    "    \n",
    "* `-r` (or `--recursive`) turns on recursive retrieving (up to 5 directories deep). \n",
    "* `-l 1` (or`--level=1`) keeps the depth to 1.\n",
    "* `-w 2` gives the amount of time to wait between retrievals. (Two seconds lessens the server load.)\n",
    "* `--limit-rate=20k` sets the retrieval rate to 20kB/s. (This is being polite in a shared connection setting.)"
   ]
  },
  {
   "cell_type": "markdown",
   "metadata": {
    "slideshow": {
     "slide_type": "subslide"
    }
   },
   "source": [
    "Our test case comes from Zach Isenhower: http://digital.library.okstate.edu/kappler/Vol2/Toc.htm. \n",
    "\n",
    "As it turns out, almost all the documents in which we are interested are housed in a single directory (below), which does not like being crawled. Running `wget` returns **ERROR 403: Forbidden**. In all likelihood, this is the result of the site's administrator configuring the website to make sure that directories cannot be browsed directly.\n",
    "\n",
    "    !wget -r -l 1 -w 2 --limit-rate=20k http://digital.library.okstate.edu/kappler/Vol2/treaties/\n",
    "\n",
    "We need, then, to be able to access the table of contents above, get all the links listed, and then download that list into a directory (folder in GUI terms) of our choosing."
   ]
  },
  {
   "cell_type": "markdown",
   "metadata": {},
   "source": [
    "## python"
   ]
  },
  {
   "cell_type": "code",
   "execution_count": null,
   "metadata": {
    "collapsed": false,
    "slideshow": {
     "slide_type": "subslide"
    }
   },
   "outputs": [],
   "source": [
    "import urllib.request\n",
    "from bs4 import BeautifulSoup\n",
    "\n",
    "# To use this script, the user needs to provide the three values below: \n",
    "# myurl, myfilter, mydirectory\n",
    "# Please make sure `mydirectory` is already created before running\n",
    "\n",
    "myurl = \"http://digital.library.okstate.edu/kappler/Vol2/Toc.htm\"\n",
    "myfilter = \"http://digital.library.okstate.edu/kappler/Vol2/treaties/\"\n",
    "mydirectory = \"/Users/jjl/Desktop/downloadedfiles/\"\n",
    "\n",
    "myconnection = urllib.request.urlopen(myurl)\n",
    "myhtml = myconnection.read()\n",
    "mysoup = BeautifulSoup(myhtml, \"lxml\")\n",
    "mylinks = mysoup.find_all('a')\n",
    "\n",
    "all_links = []\n",
    "for tag in mylinks:\n",
    "    link = tag.get('href',None)\n",
    "    if link is not None:\n",
    "        all_links.append(link)\n",
    "\n",
    "myresults = [k for k in all_links if myfilter in k]\n",
    "\n",
    "for result in myresults:\n",
    "    remotefile = urllib.request.urlopen(result)\n",
    "    localfile = open(mydirectory+result.replace(myfilter, ''),'wb')\n",
    "    localfile.write(remotefile.read())\n",
    "    localfile.close()\n",
    "    remotefile.close()"
   ]
  },
  {
   "cell_type": "markdown",
   "metadata": {
    "slideshow": {
     "slide_type": "subslide"
    }
   },
   "source": [
    "To work with this script, all you need to do is provide three variables:\n",
    "\n",
    "**myurl** is the page that lists the files\n",
    "\n",
    "**myfilter** is the (remote) directory in which the files are stored\n",
    "\n",
    "**mydirectory** is the (local) directory to which you wish to save the files. N.B.: You must create this directory ahead of time; and you must provide the absolute path from the root of your OS. The example path is from a Mac; Windows users will need something like `C:\\Documents and Setting\\username\\path\\to\\folder`."
   ]
  },
  {
   "cell_type": "markdown",
   "metadata": {
    "slideshow": {
     "slide_type": "subslide"
    }
   },
   "source": [
    "Now we have a directory (folder) sitting on our desktop and it has all the files we want:\n",
    "\n",
    "![Screenshot of Full Directory](./Screenshot_directory.png)"
   ]
  },
  {
   "cell_type": "markdown",
   "metadata": {
    "slideshow": {
     "slide_type": "slide"
    }
   },
   "source": [
    "## Munging\n",
    "\n",
    "> **Data munging** or **data wrangling** is loosely the process of manually converting or mapping data from one \"raw\" form into another format that allows for more convenient consumption of the data with the help of semi-automated tools. This may include further munging, data visualization, data aggregation, training a statistical model, as well as many other potential uses. Data munging as a process typically follows a set of general steps which begin with extracting the data in a raw form from the data source, \"munging\" the raw data using algorithms (e.g. sorting) or parsing the data into predefined data structures, and finally depositing the resulting content into a data sink for storage and future use.\n",
    "\n",
    "-- [Wikipedia](https://en.wikipedia.org/wiki/Data_wrangling)"
   ]
  },
  {
   "cell_type": "code",
   "execution_count": null,
   "metadata": {
    "collapsed": false,
    "slideshow": {
     "slide_type": "subslide"
    }
   },
   "outputs": [],
   "source": [
    "# Let's take a look at one of Zach's files:\n",
    "\n",
    "!less apa0598.htm"
   ]
  },
  {
   "cell_type": "markdown",
   "metadata": {
    "slideshow": {
     "slide_type": "subslide"
    }
   },
   "source": [
    "No matter what Zach has in mind for this data, we can be pretty sure that it does not include a lot of angle brackets and funkiness like `div class=\"SANSLINE\"`. (For the record, *funkiness* is a technical term in data munging. I'm serious. Go look it up.) Whatever Zach's next steps are, he is going to want to clean up the text. \n",
    "\n",
    "For this workshop, we are going to skip transforming this html into some kind of operable xml and focus on simply getting it into useful plain text. From there, Zach will be able to engage a number of automated processes which may be more, or less, interesting."
   ]
  },
  {
   "cell_type": "code",
   "execution_count": null,
   "metadata": {
    "collapsed": true,
    "slideshow": {
     "slide_type": "subslide"
    }
   },
   "outputs": [],
   "source": [
    "from bs4 import BeautifulSoup\n",
    "\n",
    "myfile = open('apa0598.htm', 'r')\n",
    "myhtml = myfile.read()\n",
    "mytext = BeautifulSoup(myhtml).text\n",
    "\n",
    "print(mytext)"
   ]
  },
  {
   "cell_type": "markdown",
   "metadata": {
    "collapsed": true,
    "slideshow": {
     "slide_type": "subslide"
    }
   },
   "source": [
    "Now, we just need to clean up the entire folder!\n",
    "\n",
    "Again, a bit of automation goes a long way..."
   ]
  },
  {
   "cell_type": "code",
   "execution_count": null,
   "metadata": {
    "collapsed": true,
    "slideshow": {
     "slide_type": "subslide"
    }
   },
   "outputs": [],
   "source": [
    "import glob\n",
    "from bs4 import BeautifulSoup\n",
    "\n",
    "filesIN = '/Users/jjl/Desktop/downloadedfiles/*.htm'   \n",
    "filesOUT = \"/Users/jjl/Desktop/cleanedfiles/\"\n",
    "    \n",
    "files=glob.glob(filesIN)\n",
    "\n",
    "for file in files:     \n",
    "    f=open(file, 'r')  \n",
    "    f.readlines()   \n",
    "    f.close() \n",
    "    \n",
    "for result in myresults:\n",
    "    remotefile = urllib.request.urlopen(result)\n",
    "    localfile = open(mydirectory+result.replace(myfilter, ''),'wb')\n",
    "    localfile.write(remotefile.read())\n",
    "    localfile.close()\n",
    "    remotefile.close()"
   ]
  },
  {
   "cell_type": "markdown",
   "metadata": {
    "slideshow": {
     "slide_type": "slide"
    }
   },
   "source": [
    "## Text Mining with the NLTK"
   ]
  },
  {
   "cell_type": "markdown",
   "metadata": {
    "slideshow": {
     "slide_type": "subslide"
    }
   },
   "source": [
    "**Text mining** or **text analytics** (or those same phrases with *data* substituted for *text*) means a lot of things. It can mean simple textual statistics, building a concordance (or seeing key words in context), determining what words co-locate (collocate) with other words within a text or across texts, as well as what words co-occur with others across a number of texts (e.g., topic modeling).\n",
    "\n",
    "That is, **text mining** is scalable both in terms of *scope*, focusing on small or large patterns, and in terms of *range*, focusing on a single text or dozens, hundreds, thousands of texts."
   ]
  },
  {
   "cell_type": "markdown",
   "metadata": {
    "slideshow": {
     "slide_type": "subslide"
    }
   },
   "source": [
    "In our next series of explorations, we are going to use Python's NLTK module to work at the smaller end of the scope:\n",
    "\n",
    "* create a corpus and view concordances, synonyms, collactions\n",
    "* focus on only a single text to see what we can learn about it"
   ]
  },
  {
   "cell_type": "markdown",
   "metadata": {
    "slideshow": {
     "slide_type": "slide"
    }
   },
   "source": [
    "### Corpus Views\n",
    "\n",
    "A lot of our text mining can be done by treating all the texts as one large text file: collocations, concordances, and other textual features can all be explored within a global context. So, one of the common things that needs to get done is to create one text file with which to work.\n",
    "\n",
    "The way to do this in Python is to read a folder full of texts into a single and then to join those list items into a single text. This seems weird, but this particular way of doing things actually uses less processing power and memory. The good news is that compiling documents into a single list is also the form in which Python's topic modeling module, `gensim`, expects them."
   ]
  },
  {
   "cell_type": "code",
   "execution_count": null,
   "metadata": {
    "collapsed": false,
    "slideshow": {
     "slide_type": "subslide"
    }
   },
   "outputs": [],
   "source": [
    "import glob\n",
    "\n",
    "file_list = glob.glob('./texts' + '/*.txt')\n",
    "\n",
    "mytexts = []\n",
    "for filename in file_list:\n",
    "    with open(filename, 'r') as f:\n",
    "        mytexts.append(f.read().replace('\\n', ' '))\n",
    "\n",
    "alltexts = ''.join(mytexts)"
   ]
  },
  {
   "cell_type": "markdown",
   "metadata": {
    "slideshow": {
     "slide_type": "subslide"
    }
   },
   "source": [
    "With our text now *one big text file*, we can mumble the magic incantations which lets us play with our text within the NLTK:\n",
    "\n",
    "(If you are ever curious, type `one big text file` into a search engine and saunter through the results.)\n",
    "\n",
    "**N.B.**: If you ever get the response that you are missing something from NLTK, simply run `nltk.download()` and download what you need using the GUI."
   ]
  },
  {
   "cell_type": "code",
   "execution_count": null,
   "metadata": {
    "collapsed": false,
    "slideshow": {
     "slide_type": "subslide"
    }
   },
   "outputs": [],
   "source": [
    "import nltk\n",
    "\n",
    "tokens = nltk.word_tokenize(alltexts)\n",
    "text = nltk.Text(tokens)"
   ]
  },
  {
   "cell_type": "markdown",
   "metadata": {
    "slideshow": {
     "slide_type": "subslide"
    }
   },
   "source": [
    "With that done, we can now begin to explore our corpus:"
   ]
  },
  {
   "cell_type": "code",
   "execution_count": null,
   "metadata": {
    "collapsed": false,
    "slideshow": {
     "slide_type": "subslide"
    }
   },
   "outputs": [],
   "source": [
    "myword = text.concordance(\"recommend\")\n",
    "print(myword)"
   ]
  },
  {
   "cell_type": "code",
   "execution_count": null,
   "metadata": {
    "collapsed": false,
    "slideshow": {
     "slide_type": "subslide"
    }
   },
   "outputs": [],
   "source": [
    "text.similar(\"recommend\")"
   ]
  },
  {
   "cell_type": "code",
   "execution_count": null,
   "metadata": {
    "collapsed": false,
    "slideshow": {
     "slide_type": "subslide"
    }
   },
   "outputs": [],
   "source": [
    "text.common_contexts([\"husband\", \"wife\"])"
   ]
  },
  {
   "cell_type": "code",
   "execution_count": null,
   "metadata": {
    "collapsed": false
   },
   "outputs": [],
   "source": [
    "text.collocations()"
   ]
  },
  {
   "cell_type": "code",
   "execution_count": null,
   "metadata": {
    "collapsed": false
   },
   "outputs": [],
   "source": [
    "text.collocations()"
   ]
  },
  {
   "cell_type": "markdown",
   "metadata": {
    "slideshow": {
     "slide_type": "slide"
    }
   },
   "source": [
    "### Single Text Views\n",
    "\n",
    "We can also work with single texts to understand them in new ways. Here we will work with a short story, \"The Most Dangerous Game,\" published in time for it to be both in the public domain and yet remain a part of our collective literary/semiotic tradition."
   ]
  },
  {
   "cell_type": "code",
   "execution_count": null,
   "metadata": {
    "collapsed": false
   },
   "outputs": [],
   "source": [
    "# First, let's load the text file:\n",
    "mdg = open(\"./mdg.txt\").read()"
   ]
  },
  {
   "cell_type": "code",
   "execution_count": null,
   "metadata": {
    "collapsed": false
   },
   "outputs": [],
   "source": [
    "# Next, let's find out how long it is:\n",
    "len(mdg)"
   ]
  },
  {
   "cell_type": "code",
   "execution_count": null,
   "metadata": {
    "collapsed": false
   },
   "outputs": [],
   "source": [
    "# 44078 what? Characters. We prefer words:\n",
    "\n",
    "mdgtokens = nltk.word_tokenize(mdg)\n",
    "len(mdgtokens)"
   ]
  },
  {
   "cell_type": "code",
   "execution_count": null,
   "metadata": {
    "collapsed": false
   },
   "outputs": [],
   "source": [
    "# 9717 words AND punctuation marks. \n",
    "\n",
    "import re\n",
    "\n",
    "mdg_words = re.sub(\"[^a-zA-Z'-]\",\" \", open(\"./mdg.txt\").read())\n",
    "print(mdg_words)"
   ]
  },
  {
   "cell_type": "code",
   "execution_count": null,
   "metadata": {
    "collapsed": false
   },
   "outputs": [],
   "source": [
    "len(mdg_words)"
   ]
  },
  {
   "cell_type": "code",
   "execution_count": null,
   "metadata": {
    "collapsed": false
   },
   "outputs": [],
   "source": [
    "mdg_word_list = mdg_words.split()\n",
    "print(mdg_word_list)"
   ]
  },
  {
   "cell_type": "code",
   "execution_count": null,
   "metadata": {
    "collapsed": false
   },
   "outputs": [],
   "source": [
    "len(mdg_word_list)"
   ]
  },
  {
   "cell_type": "code",
   "execution_count": null,
   "metadata": {
    "collapsed": false
   },
   "outputs": [],
   "source": [
    "sorted(mdg_word_list)"
   ]
  },
  {
   "cell_type": "code",
   "execution_count": null,
   "metadata": {
    "collapsed": false
   },
   "outputs": [],
   "source": [
    "sorted(set(mdg_word_list))"
   ]
  },
  {
   "cell_type": "code",
   "execution_count": null,
   "metadata": {
    "collapsed": false
   },
   "outputs": [],
   "source": [
    "len(sorted(set(mdg_word_list)))"
   ]
  },
  {
   "cell_type": "code",
   "execution_count": null,
   "metadata": {
    "collapsed": false
   },
   "outputs": [],
   "source": [
    "import re\n",
    "\n",
    "mdg2 = open(\"./mdg.txt\").read()\n",
    "mdg2_words = re.sub(\"[^a-zA-Z'-]\",\" \", open(\"./mdg.txt\").read().lower())\n",
    "mdg2_word_list = mdg2_words.split()\n",
    "len(sorted(set(mdg2_word_list)))"
   ]
  },
  {
   "cell_type": "code",
   "execution_count": null,
   "metadata": {
    "collapsed": false
   },
   "outputs": [],
   "source": [
    "# Lexical Diversity of MDG:\n",
    "len(mdg2_word_list) / len(set(mdg2_word_list))"
   ]
  },
  {
   "cell_type": "markdown",
   "metadata": {},
   "source": [
    "We can also use the NLTK to explore a single text."
   ]
  },
  {
   "cell_type": "code",
   "execution_count": 2,
   "metadata": {
    "collapsed": false
   },
   "outputs": [],
   "source": [
    "import nltk, re\n",
    "\n",
    "mdg_raw = open(\"./mdg.txt\").read()\n",
    "mdg_words = re.sub(\"[^a-zA-Z'-]\",\" \", mdg_raw)\n",
    "mdg_case = mdg_words.lower()\n",
    "\n",
    "# print(mdg_case)"
   ]
  },
  {
   "cell_type": "code",
   "execution_count": 3,
   "metadata": {
    "collapsed": false
   },
   "outputs": [],
   "source": [
    "mdg_tokens = nltk.word_tokenize(mdg_case)\n",
    "mdg_text = nltk.Text(mdg_tokens)"
   ]
  },
  {
   "cell_type": "code",
   "execution_count": 4,
   "metadata": {
    "collapsed": false
   },
   "outputs": [
    {
     "data": {
      "text/plain": [
       "8109"
      ]
     },
     "execution_count": 4,
     "metadata": {},
     "output_type": "execute_result"
    }
   ],
   "source": [
    "len(mdg_tokens)"
   ]
  },
  {
   "cell_type": "code",
   "execution_count": 9,
   "metadata": {
    "collapsed": false
   },
   "outputs": [
    {
     "data": {
      "text/plain": [
       "4.203732503888025"
      ]
     },
     "execution_count": 9,
     "metadata": {},
     "output_type": "execute_result"
    }
   ],
   "source": [
    "len(mdg_tokens) / len(set(mdg_tokens))"
   ]
  },
  {
   "cell_type": "markdown",
   "metadata": {},
   "source": [
    "On average, a word occurs four times in \"The Most Dangerous Game.\"\n",
    "\n",
    "Out of curiosity, how many words occur four times?"
   ]
  },
  {
   "cell_type": "code",
   "execution_count": 9,
   "metadata": {
    "collapsed": false
   },
   "outputs": [
    {
     "name": "stdout",
     "output_type": "stream",
     "text": [
      "['day', 'opened', 'perhaps', 'hundred', 'struck', 'evening', 'hunted', 'asked', 'let', 'nothing', 'buffalo', 'lips', 'turned', 'steps', 'young', 'mind', 'huge', 'sailors', 'cut', 'tigers', 'going', 'bush', 'lost', 'idea', 'mean', 'may', 'strength', 'fall', 'pointing', 'shook', 'cape', 'death', 'climbed', 'near', 'shore', 'still', 'voice', 'kind', 'mine', 'real', 'branches', 're', 'raised', 'want', 'left', 'sometimes', 'dangerous', 'seemed', 'bottle', 'old', 'glass', 'head', 'read', 'suppose', 'direction', 'answer', 'faint', 'chateau', 'shoulders', 'water', 'jaguar', 'long', 'evil', 'danger', 'tried', 'leaped', 'small', 'flight']\n"
     ]
    }
   ],
   "source": [
    "wordfrequency = nltk.FreqDist(mdg_tokens)\n",
    "four_times = [word for word in wordfrequency.keys() if wordfrequency[word] == 4]\n",
    "print(four_times)"
   ]
  },
  {
   "cell_type": "code",
   "execution_count": 11,
   "metadata": {
    "collapsed": false
   },
   "outputs": [
    {
     "data": {
      "text/plain": [
       "4"
      ]
     },
     "execution_count": 11,
     "metadata": {},
     "output_type": "execute_result"
    }
   ],
   "source": [
    "mdg_text.count(\"dangerous\")"
   ]
  },
  {
   "cell_type": "code",
   "execution_count": 5,
   "metadata": {
    "collapsed": false
   },
   "outputs": [
    {
     "name": "stdout",
     "output_type": "stream",
     "text": [
      "Displaying 4 of 4 matches:\n",
      " that the cape buffalo is the most dangerous of all big game for a moment the g\n",
      "r the cape buffalo is not the most dangerous big game he sipped his wine here i\n",
      " in the same slow tone i hunt more dangerous game rainsford expressed his surpr\n",
      "reason after a fashion so they are dangerous but where do you get them the gene\n"
     ]
    }
   ],
   "source": [
    "mdg_text.concordance(\"dangerous\")"
   ]
  },
  {
   "cell_type": "markdown",
   "metadata": {},
   "source": [
    "Where does \"dangerous\" occur within the larger text?"
   ]
  },
  {
   "cell_type": "code",
   "execution_count": 21,
   "metadata": {
    "collapsed": false
   },
   "outputs": [
    {
     "data": {
      "image/png": "[encoded data removed]",
      "text/plain": [
       "<matplotlib.figure.Figure at 0x114e93f28>"
      ]
     },
     "metadata": {},
     "output_type": "display_data"
    }
   ],
   "source": [
    "mdg_text.dispersion_plot([\"dangerous\", \"danger\", \"game\", \"fear\"])"
   ]
  },
  {
   "cell_type": "code",
   "execution_count": 22,
   "metadata": {
    "collapsed": false
   },
   "outputs": [
    {
     "data": {
      "image/png": "[encoded data removed]",
      "text/plain": [
       "<matplotlib.figure.Figure at 0x114d350f0>"
      ]
     },
     "metadata": {},
     "output_type": "display_data"
    }
   ],
   "source": [
    "wordfrequency.plot()"
   ]
  },
  {
   "cell_type": "code",
   "execution_count": 29,
   "metadata": {
    "collapsed": false
   },
   "outputs": [
    {
     "name": "stdout",
     "output_type": "stream",
     "text": [
      "[(512, 'the'), (258, 'a'), (248, 'he'), (177, 'i'), (172, 'of'), (164, 'and'), (148, 'to'), (140, 'was'), (137, 'his'), (134, 'rainsford'), (108, 'in'), (106, 'general'), (105, 'you'), (105, 'it'), (87, 'that'), (74, 'with'), (68, 'had'), (60, 'said'), (59, 'not'), (56, 's'), (55, 'him'), (54, 'as'), (53, 'on'), (51, 'for'), (49, 'but'), (45, 'my'), (42, 'have'), (39, 'from'), (37, 'there'), (36, 'is'), (34, 'me'), (34, 'an'), (32, 'they'), (30, 'no'), (29, 'one'), (28, 'then'), (28, 'hunting'), (27, 'be'), (27, 'at'), (26, 'so'), (26, 'out'), (25, 'when'), (25, 'were'), (25, 'up'), (25, 'by'), (24, 'night'), (22, 't'), (22, 'now'), (22, 'if'), (22, 'down'), (21, 'eyes'), (21, 'could'), (21, 'can'), (20, 'zaroff'), (20, 'this'), (20, 'himself'), (20, 'are'), (19, 'what'), (19, 'see'), (19, 'man'), (19, 'heard'), (18, 'made'), (18, 'll'), (18, 'hunt'), (18, 'did'), (18, 'about'), (17, 'we'), (17, 'through'), (17, 'mr'), (17, 'do'), (16, 'will'), (16, 'some'), (16, 'all'), (15, 'thought'), (15, 'them'), (15, 'sound'), (15, 'sea'), (15, 'saw'), (15, 'must'), (15, 'ivan'), (15, 'into'), (14, 'island'), (14, 'good'), (14, 'again'), (13, 'your'), (13, 'tree'), (13, 'think'), (13, 'place'), (13, 'off'), (13, 'face'), (13, 'come'), (13, 'black'), (13, 'been'), (13, 'animal'), (12, 'why'), (12, 'where'), (12, 'new'), (12, 'like'), (12, 'jungle'), (12, 'game'), (12, 'back'), (11, 've'), (11, 'trail'), (11, 'its'), (11, 'hunter'), (11, 'here'), (11, 'hand'), (11, 'even'), (11, 'came'), (10, 'would'), (10, 'only'), (10, 'most'), (10, 'more'), (10, 'men'), (10, 'knew'), (10, 'go'), (10, 'get'), (10, 'another'), (10, 'am'), (10, 'along'), (9, 'yacht'), (9, 'whitney'), (9, 'well'), (9, 'very'), (9, 'stopped'), (9, 'or'), (9, 'many'), (9, 'm'), (9, 'hounds'), (9, 'has'), (8, 'wish'), (8, 'three'), (8, 'strong'), (8, 'sleep'), (8, 'nerve'), (8, 'lights'), (8, 'light'), (8, 'life'), (8, 'how'), (8, 'great'), (8, 'giant'), (8, 'first'), (8, 'fellow'), (8, 'feet'), (8, 'cossack'), (8, 'before'), (7, 'window'), (7, 'went'), (7, 'way'), (7, 'too'), (7, 'thing'), (7, 'than'), (7, 'something'), (7, 'smiled'), (7, 'smile'), (7, 'shall'), (7, 'quarry'), (7, 'pit'), (7, 'oh'), (7, 'never'), (7, 'looked'), (7, 'knife'), (7, 'held'), (7, 'give'), (7, 'found'), (7, 'food'), (7, 'follow'), (7, 'find'), (7, 'fear'), (7, 'every'), (7, 'don'), (7, 'coming'), (7, 'bit'), (7, 'big'), (7, 'began'), (7, 'almost'), (7, 'against'), (7, 'after'), (6, 'whole'), (6, 'who'), (6, 'which'), (6, 'toward'), (6, 'took'), (6, 'thick'), (6, 'their'), (6, 'sport'), (6, 'should'), (6, 'right'), (6, 'rest'), (6, 'reached'), (6, 'put'), (6, 'pistol'), (6, 'pack'), (6, 'know'), (6, 'high'), (6, 'ground'), (6, 'gave'), (6, 'far'), (6, 'dear'), (6, 'dark'), (6, 'cry'), (6, 'clothes'), (6, 'cigarette'), (6, 'bed'), (6, 'away'), (6, 'always'), (5, 'yes'), (5, 'world'), (5, 'weeds'), (5, 'upon'), (5, 'two'), (5, 'time'), (5, 'tell'), (5, 'swamp'), (5, 'suggest'), (5, 'stood'), (5, 'sharp'), (5, 'second'), (5, 'say'), (5, 'room'), (5, 'revolver'), (5, 'reason'), (5, 'rather'), (5, 'pointed'), (5, 'over'), (5, 'open'), (5, 'nearer'), (5, 'name'), (5, 'last'), (5, 'just'), (5, 'hope'), (5, 'grew'), (5, 'foot'), (5, 'feel'), (5, 'ever'), (5, 'enough'), (5, 'door'), (5, 'dead'), (5, 'darkness'), (5, 'course'), (5, 'chance'), (5, 'called'), (5, 'brought'), (5, 'air'), (4, 'young'), (4, 'water'), (4, 'want'), (4, 'voice'), (4, 'turned'), (4, 'tried'), (4, 'tigers'), (4, 'suppose'), (4, 'struck'), (4, 'strength'), (4, 'still'), (4, 'steps'), (4, 'sometimes'), (4, 'small'), (4, 'shoulders'), (4, 'shore'), (4, 'shook'), (4, 'seemed'), (4, 'sailors'), (4, 'real'), (4, 'read'), (4, 're'), (4, 'raised'), (4, 'pointing'), (4, 'perhaps'), (4, 'opened'), (4, 'old'), (4, 'nothing'), (4, 'near'), (4, 'mine'), (4, 'mind'), (4, 'mean'), (4, 'may'), (4, 'lost'), (4, 'long'), (4, 'lips'), (4, 'let'), (4, 'left'), (4, 'leaped'), (4, 'kind'), (4, 'jaguar'), (4, 'idea'), (4, 'hunted'), (4, 'hundred'), (4, 'huge'), (4, 'head'), (4, 'going'), (4, 'glass'), (4, 'flight'), (4, 'fall'), (4, 'faint'), (4, 'evil'), (4, 'evening'), (4, 'direction'), (4, 'death'), (4, 'day'), (4, 'dangerous'), (4, 'danger'), (4, 'cut'), (4, 'climbed'), (4, 'chateau'), (4, 'cape'), (4, 'bush'), (4, 'buffalo'), (4, 'branches'), (4, 'bottle'), (4, 'asked'), (4, 'answer'), (3, 'yards'), (3, 'wounded'), (3, 'woods'), (3, 'within'), (3, 'win'), (3, 'wait'), (3, 'visit'), (3, 'use'), (3, 'uniform'), (3, 'underbrush'), (3, 'turn'), (3, 'trying'), (3, 'try'), (3, 'trees'), (3, 'tonight'), (3, 'told'), (3, 'times'), (3, 'tight'), (3, 'things'), (3, 'these'), (3, 'thank'), (3, 'ten'), (3, 'tall'), (3, 'taking'), (3, 'table'), (3, 'swam'), (3, 'suggested'), (3, 'such'), (3, 'strokes'), (3, 'straight'), (3, 'stone'), (3, 'startled'), (3, 'stakes'), (3, 'someone'), (3, 'smoke'), (3, 'slowly'), (3, 'slight'), (3, 'slender'), (3, 'silver'), (3, 'sign'), (3, 'showed'), (3, 'show'), (3, 'shoulder'), (3, 'shots'), (3, 'shot'), (3, 'short'), (3, 'ship'), (3, 'seen'), (3, 'sat'), (3, 'sanger'), (3, 'russian'), (3, 'rocks'), (3, 'remarked'), (3, 'really'), (3, 'quite'), (3, 'quicksand'), (3, 'pressed'), (3, 'pleasure'), (3, 'please'), (3, 'play'), (3, 'perfect'), (3, 'other'), (3, 'once'), (3, 'nor'), (3, 'need'), (3, 'much'), (3, 'moving'), (3, 'mouth'), (3, 'morning'), (3, 'moment'), (3, 'match'), (3, 'mark'), (3, 'make'), (3, 'luckily'), (3, 'leave'), (3, 'lay'), (3, 'laugh'), (3, 'large'), (3, 'knocker'), (3, 'hours'), (3, 'heart'), (3, 'heads'), (3, 'hardly'), (3, 'hands'), (3, 'hall'), (3, 'gun'), (3, 'gray'), (3, 'got'), (3, 'god'), (3, 'fresh'), (3, 'fox'), (3, 'four'), (3, 'forced'), (3, 'finished'), (3, 'fell'), (3, 'feeling'), (3, 'explained'), (3, 'entirely'), (3, 'effort'), (3, 'earth'), (3, 'dressed'), (3, 'dozen'), (3, 'dogs'), (3, 'does'), (3, 'devil'), (3, 'days'), (3, 'courtyard'), (3, 'civilized'), (3, 'cat'), (3, 'case'), (3, 'call'), (3, 'breath'), (3, 'brain'), (3, 'blackness'), (3, 'best'), (3, 'below'), (3, 'believe'), (3, 'behind'), (3, 'baying'), (3, 'any'), (3, 'above'), (2, 'york'), (2, 'yet'), (2, 'years'), (2, 'worth'), (2, 'word'), (2, 'wits'), (2, 'without'), (2, 'wine'), (2, 'wild'), (2, 'wide'), (2, 'white'), (2, 'welcome'), (2, 'waters'), (2, 'wash'), (2, 'waist'), (2, 'wager'), (2, 'value'), (2, 'used'), (2, 'us'), (2, 'upward'), (2, 'under'), (2, 'turning'), (2, 'tumbled'), (2, 'true'), (2, 'trigger'), (2, 'trace'), (2, 'towers'), (2, 'touched'), (2, 'tomorrow'), (2, 'today'), (2, 'tired'), (2, 'thrill'), (2, 'those'), (2, 'thinking'), (2, 'terror'), (2, 'terrible'), (2, 'teeth'), (2, 'tangible'), (2, 'talk'), (2, 'take'), (2, 'swish'), (2, 'swimming'), (2, 'supply'), (2, 'sun'), (2, 'suddenly'), (2, 'sudden'), (2, 'sucked'), (2, 'studying'), (2, 'stock'), (2, 'stiffly'), (2, 'stepped'), (2, 'stay'), (2, 'start'), (2, 'standing'), (2, 'spring'), (2, 'sportsman'), (2, 'splendid'), (2, 'specimens'), (2, 'speak'), (2, 'sort'), (2, 'somewhere'), (2, 'soft'), (2, 'slow'), (2, 'slid'), (2, 'six'), (2, 'sir'), (2, 'sipped'), (2, 'silent'), (2, 'sighed'), (2, 'shrugged'), (2, 'shoot'), (2, 'sheath'), (2, 'set'), (2, 'serious'), (2, 'sent'), (2, 'score'), (2, 'sapling'), (2, 'same'), (2, 'sailor'), (2, 'ring'), (2, 'ridge'), (2, 'rich'), (2, 'revoir'), (2, 'rested'), (2, 'regarded'), (2, 'red'), (2, 'rains'), (2, 'rail'), (2, 'quiet'), (2, 'quarter'), (2, 'pushed'), (2, 'puffed'), (2, 'providence'), (2, 'problems'), (2, 'preserve'), (2, 'point'), (2, 'playing'), (2, 'played'), (2, 'pipe'), (2, 'pieces'), (2, 'pain'), (2, 'offered'), (2, 'observed'), (2, 'none'), (2, 'nodded'), (2, 'naturally'), (2, 'myself'), (2, 'muttered'), (2, 'murder'), (2, 'moved'), (2, 'mouse'), (2, 'moss'), (2, 'moose'), (2, 'monster'), (2, 'moccasins'), (2, 'mirage'), (2, 'minutes'), (2, 'minute'), (2, 'military'), (2, 'making'), (2, 'makes'), (2, 'lying'), (2, 'luck'), (2, 'lot'), (2, 'lore'), (2, 'loose'), (2, 'look'), (2, 'log'), (2, 'living'), (2, 'lived'), (2, 'live'), (2, 'little'), (2, 'lit'), (2, 'limb'), (2, 'lifted'), (2, 'library'), (2, 'leaned'), (2, 'lazarus'), (2, 'laughed'), (2, 'largest'), (2, 'laid'), (2, 'killed'), (2, 'keep'), (2, 'joke'), (2, 'isn'), (2, 'invariably'), (2, 'interest'), (2, 'instinct'), (2, 'inspiration'), (2, 'inch'), (2, 'impulse'), (2, 'ill'), (2, 'ideas'), (2, 'ideal'), (2, 'hunters'), (2, 'hummed'), (2, 'house'), (2, 'hound'), (2, 'hotly'), (2, 'host'), (2, 'hoped'), (2, 'honor'), (2, 'home'), (2, 'hold'), (2, 'hoarse'), (2, 'hit'), (2, 'hiding'), (2, 'half'), (2, 'guns'), (2, 'grip'), (2, 'greater'), (2, 'gold'), (2, 'glad'), (2, 'given'), (2, 'gap'), (2, 'frame'), (2, 'fought'), (2, 'forward'), (2, 'following'), (2, 'followed'), (2, 'flat'), (2, 'finest'), (2, 'finding'), (2, 'filled'), (2, 'figure'), (2, 'felt'), (2, 'feels'), (2, 'fashion'), (2, 'fainter'), (2, 'failed'), (2, 'eyebrows'), (2, 'extremely'), (2, 'expect'), (2, 'excuse'), (2, 'exciting'), (2, 'excellent'), (2, 'escaped'), (2, 'eh'), (2, 'edge'), (2, 'ears'), (2, 'dusk'), (2, 'dropped'), (2, 'drink'), (2, 'drew'), (2, 'dread'), (2, 'doubtless'), (2, 'doubt'), (2, 'done'), (2, 'discuss'), (2, 'dinner'), (2, 'dining'), (2, 'difficult'), (2, 'delicately'), (2, 'deepest'), (2, 'czar'), (2, 'curious'), (2, 'cunning'), (2, 'crushed'), (2, 'crush'), (2, 'crimson'), (2, 'country'), (2, 'corner'), (2, 'continued'), (2, 'congratulate'), (2, 'cocktail'), (2, 'closely'), (2, 'closed'), (2, 'cliffs'), (2, 'chill'), (2, 'cheerfully'), (2, 'chablis'), (2, 'ceased'), (2, 'caught'), (2, 'carried'), (2, 'caribbean'), (2, 'cannibals'), (2, 'brute'), (2, 'brown'), (2, 'broad'), (2, 'breeze'), (2, 'breaking'), (2, 'bore'), (2, 'boots'), (2, 'blue'), (2, 'blade'), (2, 'between'), (2, 'better'), (2, 'beneath'), (2, 'being'), (2, 'beginning'), (2, 'bedroom'), (2, 'bay'), (2, 'bad'), (2, 'au'), (2, 'attention'), (2, 'ate'), (2, 'appear'), (2, 'animals'), (2, 'american'), (2, 'america'), (2, 'amazon'), (2, 'ahead'), (2, 'ah'), (2, 'agree'), (2, 'africa'), (2, 'added'), (2, 'across'), (1, 'zone'), (1, 'zealous'), (1, 'yourself'), (1, 'younger'), (1, 'year'), (1, 'wrong'), (1, 'wrestled'), (1, 'wrench'), (1, 'wove'), (1, 'wound'), (1, 'wouldn'), (1, 'worthy'), (1, 'worried'), (1, 'works'), (1, 'worked'), (1, 'work'), (1, 'words'), (1, 'wooded'), (1, 'woodcraft'), (1, 'wonderful'), (1, 'wondered'), (1, 'won'), (1, 'withdrew'), (1, 'wins'), (1, 'wink'), (1, 'windows'), (1, 'winding'), (1, 'wilderness'), (1, 'widened'), (1, 'wide-open'), (1, 'whose'), (1, 'wholly'), (1, 'whites'), (1, 'whipped'), (1, 'whenever'), (1, 'wet'), (1, 'weren'), (1, 'well-cooked'), (1, 'web'), (1, 'weaving'), (1, 'weather'), (1, 'weariness'), (1, 'wear'), (1, 'weak'), (1, 'ways'), (1, 'wavering'), (1, 'wave'), (1, 'watercourse'), (1, 'watched'), (1, 'watch'), (1, 'warm'), (1, 'war'), (1, 'wanted'), (1, 'wan'), (1, 'walnut'), (1, 'walking'), (1, 'walked'), (1, 'waiter'), (1, 'voices'), (1, 'vivid'), (1, 'vitality'), (1, 'visitors'), (1, 'violent'), (1, 'village'), (1, 'vigor'), (1, 'view'), (1, 'viciously'), (1, 'vibrations'), (1, 'veuve'), (1, 'venture'), (1, 'venerable'), (1, 'velvet'), (1, 'vegetation'), (1, 'vast'), (1, 'varnishing'), (1, 'valley'), (1, 'utter'), (1, 'utmost'), (1, 'unusually'), (1, 'unusual'), (1, 'until'), (1, 'unseen'), (1, 'unruffled'), (1, 'unreality'), (1, 'unpleasant'), (1, 'unless'), (1, 'understood'), (1, 'understanding'), (1, 'understand'), (1, 'uncomfortable'), (1, 'uncanny'), (1, 'unbroken'), (1, 'ugh'), (1, 'uganda'), (1, 'twoscore'), (1, 'twig'), (1, 'twenty-two'), (1, 'twenty'), (1, 'tweeds'), (1, 'turkish'), (1, 'turkeys'), (1, 'truth'), (1, 'trust'), (1, 'trunk'), (1, 'trouble'), (1, 'tropical'), (1, 'trip'), (1, 'trimmed'), (1, 'trick'), (1, 'treat'), (1, 'traveling'), (1, 'trap'), (1, 'tramp'), (1, 'traits'), (1, 'trait'), (1, 'training'), (1, 'trailed'), (1, 'tragic'), (1, 'trackless'), (1, 'track'), (1, 'traces'), (1, 'town'), (1, 'tough-minded'), (1, 'tore'), (1, 'torch'), (1, 'top'), (1, 'tongue'), (1, 'tone'), (1, 'together'), (1, 'tiredness'), (1, 'tip'), (1, 'till'), (1, 'tightening'), (1, 'tiger'), (1, 'tied'), (1, 'tibet'), (1, 'thumb'), (1, 'thrust'), (1, 'throwing'), (1, 'throw'), (1, 'throb'), (1, 'threw'), (1, 'thrashed'), (1, 'thoughtful'), (1, 'thoroughbred'), (1, 'third'), (1, 'thickly'), (1, 'thickets'), (1, 'tent'), (1, 'tensed'), (1, 'tells'), (1, 'tearoom'), (1, 'tear'), (1, 'taxi'), (1, 'tasted'), (1, 'tartar'), (1, 'tapestry'), (1, 'tangle'), (1, 'taken'), (1, 'taint'), (1, 'tailor'), (1, 'tackle'), (1, 'tables'), (1, 'swum'), (1, 'switched'), (1, 'swirling'), (1, 'swim'), (1, 'swiftness'), (1, 'swiftly'), (1, 'swede'), (1, 'sweat'), (1, 'swamps'), (1, 'suzette'), (1, 'surprised'), (1, 'surprise'), (1, 'surpassingly'), (1, 'surmounted'), (1, 'surged'), (1, 'surface'), (1, 'sureness'), (1, 'surely'), (1, 'supplies'), (1, 'superstitious'), (1, 'superstition'), (1, 'suit'), (1, 'suicide'), (1, 'suggestive'), (1, 'suffered'), (1, 'success'), (1, 'stupid'), (1, 'stump'), (1, 'studied'), (1, 'struggled'), (1, 'structure'), (1, 'strolled'), (1, 'striking'), (1, 'strike'), (1, 'stretching'), (1, 'strangle'), (1, 'strange'), (1, 'straining'), (1, 'strained'), (1, 'straightened'), (1, 'store'), (1, 'stop'), (1, 'sticking'), (1, 'steered'), (1, 'steel'), (1, 'steamer'), (1, 'stealthy'), (1, 'statue'), (1, 'state'), (1, 'started'), (1, 'staring'), (1, 'stand'), (1, 'stamina'), (1, 'stalking'), (1, 'stake'), (1, 'stained'), (1, 'staggered'), (1, 'staccato'), (1, 'squire'), (1, 'spurred'), (1, 'springy'), (1, 'springing'), (1, 'spread'), (1, 'sprang'), (1, 'spot'), (1, 'sporting'), (1, 'spoke'), (1, 'splitting'), (1, 'spiked'), (1, 'speeding'), (1, 'specially'), (1, 'speaking'), (1, 'sparrows'), (1, 'spare'), (1, 'spanish'), (1, 'southeast'), (1, 'soup'), (1, 'sought'), (1, 'sorry'), (1, 'soothe'), (1, 'soon'), (1, 'sons'), (1, 'song'), (1, 'somehow'), (1, 'solidly'), (1, 'solicitously'), (1, 'solicitous'), (1, 'softness'), (1, 'softest'), (1, 'softer'), (1, 'society'), (1, 'snuffbox'), (1, 'snow'), (1, 'snatch'), (1, 'snarled'), (1, 'snarl'), (1, 'snapped'), (1, 'snake'), (1, 'smiling'), (1, 'smell'), (1, 'smashed'), (1, 'smallest'), (1, 'smaller'), (1, 'sloop'), (1, 'slipping'), (1, 'slightest'), (1, 'slept'), (1, 'sleepy'), (1, 'slapped'), (1, 'sky'), (1, 'skull'), (1, 'situation'), (1, 'sitting'), (1, 'sit'), (1, 'singularly'), (1, 'simply'), (1, 'simple'), (1, 'silk'), (1, 'silence'), (1, 'sighted'), (1, 'siesta'), (1, 'sides'), (1, 'sick'), (1, 'shut'), (1, 'shudder'), (1, 'shouted'), (1, 'shouldn'), (1, 'ships'), (1, 'shinned'), (1, 'shattered'), (1, 'sharpened'), (1, 'sharpcut'), (1, 'shapes'), (1, 'shallow'), (1, 'shadowy'), (1, 'shadows'), (1, 'shadow'), (1, 'sewed'), (1, 'several'), (1, 'seven'), (1, 'settle'), (1, 'serving'), (1, 'served'), (1, 'series'), (1, 'sensuous'), (1, 'sensed'), (1, 'sense'), (1, 'sensation'), (1, 'sends'), (1, 'seemingly'), (1, 'seem'), (1, 'security'), (1, 'securities'), (1, 'seas'), (1, 'searching'), (1, 'seafaring'), (1, 'scum'), (1, 'scruples'), (1, 'screen'), (1, 'screaming'), (1, 'screamed'), (1, 'scream'), (1, 'scowling'), (1, 'school'), (1, 'scent'), (1, 'saying'), (1, 'saving'), (1, 'savagely'), (1, 'savage'), (1, 'sash'), (1, 'saplings'), (1, 'sank'), (1, 'san'), (1, 'saluted'), (1, 'salute'), (1, 'salt'), (1, 'sallow'), (1, 'safe'), (1, 'sack'), (1, 'russians'), (1, 'russia'), (1, 'rumbled'), (1, 'rude'), (1, 'rubbing'), (1, 'rowers'), (1, 'rough'), (1, 'rotten'), (1, 'rot'), (1, 'rope'), (1, 'romantic'), (1, 'roger'), (1, 'rocky'), (1, 'rockies'), (1, 'robber'), (1, 'river'), (1, 'ripple'), (1, 'rio'), (1, 'rigidly'), (1, 'righteous'), (1, 'rifle'), (1, 'rhinoceroses'), (1, 'rests'), (1, 'restful'), (1, 'resourceful'), (1, 'reputation'), (1, 'reports'), (1, 'report'), (1, 'reply'), (1, 'replied'), (1, 'replace'), (1, 'repast'), (1, 'remembered'), (1, 'remember'), (1, 'remarkable'), (1, 'remaining'), (1, 'remained'), (1, 'regrettable'), (1, 'regret'), (1, 'regarding'), (1, 'refuses'), (1, 'refuse'), (1, 'refectory'), (1, 'red-lipped'), (1, 'recovered'), (1, 'recoil'), (1, 'recognized'), (1, 'recognize'), (1, 'reclining'), (1, 'receding'), (1, 'recalling'), (1, 'reappeared'), (1, 'realized'), (1, 'realist'), (1, 'ready'), (1, 'razor'), (1, 'raw'), (1, 'rare'), (1, 'ranker'), (1, 'rank'), (1, 'range'), (1, 'ran'), (1, 'raise'), (1, 'ragged'), (1, 'raced'), (1, 'race'), (1, 'quizzically'), (1, 'quickly'), (1, 'quicker'), (1, 'quick'), (1, 'questioning'), (1, 'question'), (1, 'quality'), (1, 'puzzled'), (1, 'pursuers'), (1, 'pursuer'), (1, 'pursued'), (1, 'purposes'), (1, 'puritan'), (1, 'pure'), (1, 'purdey'), (1, 'pupils'), (1, 'punish'), (1, 'pungent'), (1, 'pulled'), (1, 'published'), (1, 'proving'), (1, 'protruding'), (1, 'protested'), (1, 'prospect'), (1, 'proposition'), (1, 'propeller'), (1, 'promising'), (1, 'promised'), (1, 'prolonged'), (1, 'problem'), (1, 'prize'), (1, 'print'), (1, 'prehistoric'), (1, 'precision'), (1, 'precisely'), (1, 'precariously'), (1, 'powers'), (1, 'power'), (1, 'poured'), (1, 'pour'), (1, 'postponing'), (1, 'possibly'), (1, 'possibilities'), (1, 'position'), (1, 'port'), (1, 'poorer'), (1, 'poor'), (1, 'pol'), (1, 'poisonous'), (1, 'points'), (1, 'poets'), (1, 'pocket'), (1, 'plunging'), (1, 'plunged'), (1, 'plenty'), (1, 'pleasant'), (1, 'plate-glass'), (1, 'plate'), (1, 'planted'), (1, 'placid'), (1, 'pinched'), (1, 'picture'), (1, 'picking'), (1, 'picked'), (1, 'pick'), (1, 'physical'), (1, 'philosopher'), (1, 'pes'), (1, 'perils'), (1, 'perfumed'), (1, 'perfume'), (1, 'perfection'), (1, 'pent-up'), (1, 'peer'), (1, 'paused'), (1, 'patterns'), (1, 'pattern'), (1, 'path'), (1, 'patch'), (1, 'pastime'), (1, 'past'), (1, 'passion'), (1, 'passed'), (1, 'particularly'), (1, 'part'), (1, 'paris'), (1, 'panther'), (1, 'panted'), (1, 'panic'), (1, 'panels'), (1, 'paneled'), (1, 'palpable'), (1, 'palatial'), (1, 'palates'), (1, 'pajamas'), (1, 'padding'), (1, 'own'), (1, 'outspread'), (1, 'outside'), (1, 'outlines'), (1, 'outdoor'), (1, 'our'), (1, 'original'), (1, 'ordinarily'), (1, 'orders'), (1, 'ord'), (1, 'option'), (1, 'opiate'), (1, 'operations'), (1, 'opaqueness'), (1, 'ooze'), (1, 'often'), (1, 'official'), (1, 'officer'), (1, 'odd'), (1, 'ocean'), (1, 'occur'), (1, 'occasionally'), (1, 'obvious'), (1, 'obstacle'), (1, 'objected'), (1, 'object'), (1, 'oaken'), (1, 'nut'), (1, 'nursing'), (1, 'numb'), (1, 'nowadays'), (1, 'notions'), (1, 'noticed'), (1, 'notice'), (1, 'noted'), (1, 'nostrils'), (1, 'nose'), (1, 'nonsense'), (1, 'noiseless'), (1, 'noise'), (1, 'noblemen'), (1, 'noble'), (1, 'nielsen'), (1, 'nevertheless'), (1, 'nerves'), (1, 'needs'), (1, 'needed'), (1, 'nature'), (1, 'natural'), (1, 'native'), (1, 'narrowly'), (1, 'nap'), (1, 'naive'), (1, 'mystified'), (1, 'mystery'), (1, 'muttering'), (1, 'mustn'), (1, 'mustache'), (1, 'muscle'), (1, 'murderer'), (1, 'muffled'), (1, 'muck'), (1, 'mounted'), (1, 'most-restful'), (1, 'moscow'), (1, 'moonlight'), (1, 'moonless'), (1, 'moon'), (1, 'months'), (1, 'monte'), (1, 'mongrels'), (1, 'moist'), (1, 'modesty'), (1, 'modern'), (1, 'mocking'), (1, 'mists'), (1, 'mistaken'), (1, 'misfortune'), (1, 'million'), (1, 'miles'), (1, 'mile'), (1, 'mignon'), (1, 'might'), (1, 'midnight'), (1, 'middle'), (1, 'mid-victorian'), (1, 'methods'), (1, 'metallic'), (1, 'merest'), (1, 'mention'), (1, 'mental'), (1, 'menacing'), (1, 'medieval'), (1, 'meant'), (1, 'meaning'), (1, 'maze'), (1, 'maybe'), (1, 'matters'), (1, 'matter'), (1, 'mathematical'), (1, 'massive'), (1, 'marksmanship'), (1, 'marked'), (1, 'marcus'), (1, 'marble'), (1, 'manner'), (1, 'mancatcher'), (1, 'malay'), (1, 'malacca'), (1, 'mainland'), (1, 'magnificence'), (1, 'madame'), (1, 'machinery'), (1, 'lungs'), (1, 'lunged'), (1, 'luncheon'), (1, 'lunch'), (1, 'lucar'), (1, 'low'), (1, 'loved'), (1, 'loudness'), (1, 'loses'), (1, 'lose'), (1, 'loops'), (1, 'looks'), (1, 'longer'), (1, 'long-bladed'), (1, 'long-barreled'), (1, 'london'), (1, 'lofty'), (1, 'locked'), (1, 'liqueur'), (1, 'lions'), (1, 'linen'), (1, 'line'), (1, 'limousine'), (1, 'limbs'), (1, 'lightning-charred'), (1, 'licked'), (1, 'less'), (1, 'leopards'), (1, 'lengths'), (1, 'legs'), (1, 'leg-weary'), (1, 'leering'), (1, 'leech'), (1, 'leaves'), (1, 'leather'), (1, 'least'), (1, 'leash'), (1, 'learned'), (1, 'learn'), (1, 'lean'), (1, 'laughter'), (1, 'later'), (1, 'late'), (1, 'lassars'), (1, 'lashed'), (1, 'larger'), (1, 'lapses'), (1, 'landed'), (1, 'land'), (1, 'lacerated'), (1, 'knouter'), (1, 'knocked'), (1, 'knit'), (1, 'knees'), (1, 'kings'), (1, 'khaki'), (1, 'kept'), (1, 'jut'), (1, 'jungles'), (1, 'jumpy'), (1, 'joy'), (1, 'joking'), (1, 'job'), (1, 'jaws'), (1, 'jaguars'), (1, 'jagged'), (1, 'iron'), (1, 'invested'), (1, 'invented'), (1, 'invent'), (1, 'intricate'), (1, 'interesting'), (1, 'intent'), (1, 'instant'), (1, 'insects'), (1, 'insane'), (1, 'inquired'), (1, 'injured'), (1, 'inferior'), (1, 'inevitably'), (1, 'inevitable'), (1, 'indolently'), (1, 'indicate'), (1, 'indeed'), (1, 'incredibly'), (1, 'incenselike'), (1, 'incense'), (1, 'imprudent'), (1, 'impression'), (1, 'impossible'), (1, 'imported'), (1, 'imperative'), (1, 'imagine'), (1, 'imagination'), (1, 'illumination'), (1, 'huskily'), (1, 'hurt'), (1, 'hurrying'), (1, 'hurried'), (1, 'hurled'), (1, 'hurl'), (1, 'huntees'), (1, 'hungry'), (1, 'hunger'), (1, 'hung'), (1, 'human'), (1, 'hothouse'), (1, 'hot'), (1, 'horse'), (1, 'horror'), (1, 'hopeless'), (1, 'holding'), (1, 'hogshead'), (1, 'hissed'), (1, 'hills'), (1, 'high-powered'), (1, 'hesitated'), (1, 'hence'), (1, 'helping'), (1, 'help'), (1, 'heels'), (1, 'heel'), (1, 'heavy'), (1, 'heavily'), (1, 'health'), (1, 'headway'), (1, 'headlong'), (1, 'headed'), (1, 'headache'), (1, 'haversack'), (1, 'hastily'), (1, 'hardwood'), (1, 'hard'), (1, 'harbors'), (1, 'handsome'), (1, 'hammer'), (1, 'hair'), (1, 'hadn'), (1, 'guest'), (1, 'guess'), (1, 'guard'), (1, 'growling'), (1, 'grow'), (1, 'grotesque'), (1, 'grizzliest'), (1, 'grisly'), (1, 'gripping'), (1, 'grinding'), (1, 'greenly'), (1, 'green'), (1, 'greedy'), (1, 'gravely'), (1, 'grass'), (1, 'grapevine'), (1, 'grape'), (1, 'gotten'), (1, 'gone'), (1, 'god-forsaken'), (1, 'gloomy'), (1, 'gloom'), (1, 'glittering'), (1, 'glittered'), (1, 'glasses'), (1, 'glaring'), (1, 'glancing'), (1, 'glance'), (1, 'giving'), (1, 'gives'), (1, 'gigantic'), (1, 'gift'), (1, 'getting'), (1, 'genuine'), (1, 'gentleman'), (1, 'gates'), (1, 'gate'), (1, 'gasping'), (1, 'gasped'), (1, 'gargoyle'), (1, 'ganges'), (1, 'gag'), (1, 'futile'), (1, 'furnish'), (1, 'function'), (1, 'full'), (1, 'froze'), (1, 'front'), (1, 'fringed'), (1, 'friend'), (1, 'french'), (1, 'free'), (1, 'frantically'), (1, 'france'), (1, 'fragment'), (1, 'fractured'), (1, 'founded'), (1, 'forth'), (1, 'forms'), (1, 'forgive'), (1, 'forget'), (1, 'forged'), (1, 'forehead'), (1, 'ford'), (1, 'force'), (1, 'forbidding'), (1, 'foolish'), (1, 'folies'), (1, 'foeman'), (1, 'focused'), (1, 'flying'), (1, 'fluttered'), (1, 'flushed'), (1, 'flung'), (1, 'floundered'), (1, 'floor'), (1, 'floated'), (1, 'flickering'), (1, 'flee'), (1, 'flattened'), (1, 'flask'), (1, 'flash'), (1, 'fixed'), (1, 'five'), (1, 'fit'), (1, 'fishy'), (1, 'firmly'), (1, 'fireflies'), (1, 'fired'), (1, 'fingers'), (1, 'fine'), (1, 'filet'), (1, 'fight'), (1, 'fifty'), (1, 'fiber'), (1, 'few'), (1, 'feudal'), (1, 'feelings'), (1, 'favorite'), (1, 'faultlessly'), (1, 'father'), (1, 'fastened'), (1, 'fascinated'), (1, 'fallen'), (1, 'fairly'), (1, 'fair'), (1, 'faced'), (1, 'fable'), (1, 'eyelids'), (1, 'eyelid'), (1, 'eye'), (1, 'extremity'), (1, 'extraordinarily'), (1, 'extra'), (1, 'expressed'), (1, 'expert'), (1, 'experiences'), (1, 'expected'), (1, 'expectantly'), (1, 'expanse'), (1, 'exhausted'), (1, 'exercise'), (1, 'executed'), (1, 'exclaimed'), (1, 'excitedly'), (1, 'excessively'), (1, 'exceedingly'), (1, 'examined'), (1, 'evident'), (1, 'evidence'), (1, 'everything'), (1, 'ever-vanishing'), (1, 'eventually'), (1, 'erect'), (1, 'entire'), (1, 'enthusiastically'), (1, 'enormous'), (1, 'ennui'), (1, 'enjoyment'), (1, 'enjoy'), (1, 'english'), (1, 'engine'), (1, 'energy'), (1, 'enemy'), (1, 'endless'), (1, 'end'), (1, 'empty'), (1, 'eludes'), (1, 'elevation'), (1, 'elephants'), (1, 'elementary'), (1, 'electricity'), (1, 'electric'), (1, 'educated'), (1, 'edges'), (1, 'eating'), (1, 'eat'), (1, 'easy'), (1, 'east'), (1, 'easily'), (1, 'easier'), (1, 'eagerly'), (1, 'dusty'), (1, 'dumb'), (1, 'dull'), (1, 'duke'), (1, 'dug'), (1, 'drowsiness'), (1, 'drove'), (1, 'drop'), (1, 'droll'), (1, 'driven'), (1, 'drive'), (1, 'drawing'), (1, 'dragged'), (1, 'doze'), (1, 'doubled'), (1, 'dosed'), (1, 'doggedly'), (1, 'doesn'), (1, 'dodges'), (1, 'division'), (1, 'diverting'), (1, 'dived'), (1, 'distant'), (1, 'distance'), (1, 'discerned'), (1, 'disarming'), (1, 'disappointed'), (1, 'dingy'), (1, 'dimly'), (1, 'digging'), (1, 'dig'), (1, 'died'), (1, 'didn'), (1, 'determined'), (1, 'detected'), (1, 'desperately'), (1, 'desperate'), (1, 'deplorable'), (1, 'denser'), (1, 'dense'), (1, 'deliciously'), (1, 'deliberateness'), (1, 'deliberately'), (1, 'deliberate'), (1, 'delay'), (1, 'defeat'), (1, 'deeper'), (1, 'deep'), (1, 'declared'), (1, 'deck'), (1, 'decided'), (1, 'debacle'), (1, 'deaf'), (1, 'daybreak'), (1, 'date'), (1, 'dashed'), (1, 'dank'), (1, 'd'), (1, 'curtains'), (1, 'cultivated'), (1, 'crystal'), (1, 'crouching'), (1, 'crouched'), (1, 'crouch'), (1, 'crotch'), (1, 'crossed'), (1, 'crook'), (1, 'crocodiles'), (1, 'crisp'), (1, 'crimea'), (1, 'cries'), (1, 'cried'), (1, 'crew'), (1, 'creature'), (1, 'cream'), (1, 'creaked'), (1, 'crawled'), (1, 'crashed'), (1, 'crags'), (1, 'crackle'), (1, 'cr'), (1, 'cowered'), (1, 'covered'), (1, 'cover'), (1, 'cove'), (1, 'courtly'), (1, 'courage'), (1, 'count'), (1, 'cosmopolite'), (1, 'corridor'), (1, 'coolheadedness'), (1, 'containing'), (1, 'consideration'), (1, 'conserving'), (1, 'confidence'), (1, 'conducted'), (1, 'condone'), (1, 'condition'), (1, 'concern'), (1, 'concentration'), (1, 'concealment'), (1, 'complimented'), (1, 'complicated'), (1, 'complaint'), (1, 'compares'), (1, 'compared'), (1, 'company'), (1, 'commanded'), (1, 'collection'), (1, 'cold-blooded'), (1, 'cold'), (1, 'coffee'), (1, 'cocked'), (1, 'coast'), (1, 'closing'), (1, 'cliquot'), (1, 'cliff'), (1, 'click'), (1, 'clearly'), (1, 'clearheaded'), (1, 'clear'), (1, 'classes'), (1, 'class'), (1, 'claimed'), (1, 'civilization'), (1, 'city'), (1, 'cigarettes'), (1, 'chuckled'), (1, 'choose'), (1, 'choice'), (1, 'chinese'), (1, 'china'), (1, 'chest'), (1, 'chess'), (1, 'cheekbones'), (1, 'check'), (1, 'chatting'), (1, 'chase'), (1, 'charts'), (1, 'charge'), (1, 'channel'), (1, 'change'), (1, 'champagne'), (1, 'chambertin'), (1, 'chair'), (1, 'certainty'), (1, 'certain'), (1, 'cellar'), (1, 'celebrated'), (1, 'ceiling'), (1, 'cavalry'), (1, 'caucasus'), (1, 'casually'), (1, 'cartridge'), (1, 'carpet'), (1, 'carlo'), (1, 'cares'), (1, 'carelessly'), (1, 'carefully'), (1, 'care'), (1, 'captain'), (1, 'capital'), (1, 'canopied'), (1, 'calm'), (1, 'caliber'), (1, 'button'), (1, 'butterfly'), (1, 'businessmen'), (1, 'businesslike'), (1, 'business'), (1, 'burst'), (1, 'burmese'), (1, 'built'), (1, 'building'), (1, 'bruised'), (1, 'broadcast'), (1, 'bring'), (1, 'brightened'), (1, 'bright'), (1, 'brier'), (1, 'breakfast'), (1, 'brandy'), (1, 'brains'), (1, 'braggart'), (1, 'bows'), (1, 'bow'), (1, 'bought'), (1, 'bough'), (1, 'bottom'), (1, 'both'), (1, 'borsch'), (1, 'boredom'), (1, 'bored'), (1, 'booming'), (1, 'books'), (1, 'book'), (1, 'boast'), (1, 'blunder'), (1, 'bluff'), (1, 'blue-green'), (1, 'blow'), (1, 'blotted'), (1, 'bloodhound'), (1, 'blood-warm'), (1, 'blinking'), (1, 'blew'), (1, 'bleak'), (1, 'blanket'), (1, 'blandly'), (1, 'blacks'), (1, 'blacking'), (1, 'bizarre'), (1, 'bitterly'), (1, 'bird'), (1, 'biggest'), (1, 'big-game'), (1, 'bewilderment'), (1, 'bergere'), (1, 'bent'), (1, 'belt'), (1, 'begin'), (1, 'beggars'), (1, 'beg'), (1, 'become'), (1, 'became'), (1, 'beaver'), (1, 'beaten'), (1, 'beast'), (1, 'bears'), (1, 'bearded'), (1, 'beard'), (1, 'bear'), (1, 'beam-ceilinged'), (1, 'baronial'), (1, 'bark'), (1, 'barbarous'), (1, 'balanced'), (1, 'balance'), (1, 'bah'), (1, 'awakened'), (1, 'avoid'), (1, 'automatically'), (1, 'automatic'), (1, 'aurelius'), (1, 'attributes'), (1, 'astrakhan'), (1, 'astonishment'), (1, 'assure'), (1, 'ask'), (1, 'army'), (1, 'arms'), (1, 'armed'), (1, 'arm'), (1, 'aristocrat'), (1, 'ardent'), (1, 'approaching'), (1, 'apprehensive'), (1, 'appraising'), (1, 'appeared'), (1, 'apologetically'), (1, 'apointments'), (1, 'ape'), (1, 'anything'), (1, 'anyone'), (1, 'anyhow'), (1, 'answered'), (1, 'annoying'), (1, 'annoyances'), (1, 'animated'), (1, 'anguish'), (1, 'angry'), (1, 'anger'), (1, 'ancestors'), (1, 'analytical'), (1, 'amusing'), (1, 'amused'), (1, 'among'), (1, 'americans'), (1, 'amenities'), (1, 'amended'), (1, 'although'), (1, 'aloud'), (1, 'alone'), (1, 'alertness'), (1, 'alarmed'), (1, 'agreed'), (1, 'ago'), (1, 'agility'), (1, 'age'), (1, 'afternoon'), (1, 'afterdeck'), (1, 'after-dinner'), (1, 'afraid'), (1, 'afford'), (1, 'affable'), (1, 'advanced'), (1, 'admitted'), (1, 'adjusted'), (1, 'actually'), (1, 'acres'), (1, 'acknowledge'), (1, 'aching'), (1, 'achieved'), (1, 'accustomed'), (1, 'accent'), (1, 'absorbed'), (1, 'abruptly'), (1, 'abrupt'), (1, 'aboard'), (1, 'able'), (1, \"'ship-trap\"), (1, \"'\")]\n"
     ]
    }
   ],
   "source": [
    "freq_dic = {}\n",
    "for word in mdg_tokens:\n",
    "#        word = punctuation.sub(\"\", word)\n",
    "        try:\n",
    "            freq_dic[word] += 1\n",
    "        except: \n",
    "            freq_dic[word] = 1\n",
    "word_list = [(val, key) for key, val in freq_dic.items()]\n",
    "\n",
    "# print(sorted(word_list, reverse=True))"
   ]
  },
  {
   "cell_type": "code",
   "execution_count": 31,
   "metadata": {
    "collapsed": true
   },
   "outputs": [],
   "source": [
    "# More useful to save this to a file:\n",
    "\n",
    "import csv\n",
    "\n",
    "with open('output.csv', 'w') as f:\n",
    "        wtr = csv.writer(f)\n",
    "        wtr.writerows(sorted(word_list, reverse=True))\n",
    "        f.close()"
   ]
  },
  {
   "cell_type": "markdown",
   "metadata": {},
   "source": [
    "## Text Mining from Space"
   ]
  },
  {
   "cell_type": "markdown",
   "metadata": {},
   "source": [
    "All text mining is simply an attempt to find numerical representations of texts that are meaningful/useful to the analyst. Nothing more. If there is magic in it, then it is in the **speed** and with which it can be done and the **scale** on which it can be come. \n",
    "\n",
    "There are a lot of possibilities, but the most popular one at present is known as **topic modeling**. The mechanics of topic modeling are so instrumental in the present moment that one form of it, **LSA** (Latent Semantic Analysis) is built right into Mac OS X.\n",
    "\n",
    "That noted the topic modeling that most humanists are doing is with Mallet, which uses a significant statistical tweak: **LDA** (Latent Dirichlet Allocation). \n",
    "\n",
    "No matter what form of topic modeling is in play, the process groups words by how often they occur with other words within a text, and, then, sorts the documents involved by these word groups. (The word groupings are called topics.)\n",
    "\n",
    "**Nota bene**: Topic models, like other statistical approaches to texts, do not pay any attention to syntax: texts are reduced to \"bags of words\": it is not unknown to re-create texts as `bow`s from word frequency distributions. (Topic models don't care.)\n",
    "\n",
    "*TL;DR: (1) The math works. (2) Cognitive studies suggest it captures some essential elements of how we think about texts. (3) Make sure you choose the math that is right for your work.*"
   ]
  },
  {
   "cell_type": "markdown",
   "metadata": {
    "slideshow": {
     "slide_type": "slide"
    }
   },
   "source": [
    "## Topic Modeling"
   ]
  },
  {
   "cell_type": "code",
   "execution_count": null,
   "metadata": {
    "collapsed": false
   },
   "outputs": [],
   "source": []
  },
  {
   "cell_type": "markdown",
   "metadata": {},
   "source": []
  }
 ],
 "metadata": {
  "kernelspec": {
   "display_name": "Python 3",
   "language": "python",
   "name": "python3"
  },
  "language_info": {
   "codemirror_mode": {
    "name": "ipython",
    "version": 3
   },
   "file_extension": ".py",
   "mimetype": "text/x-python",
   "name": "python",
   "nbconvert_exporter": "python",
   "pygments_lexer": "ipython3",
   "version": "3.4.4"
  }
 },
 "nbformat": 4,
 "nbformat_minor": 0
}
